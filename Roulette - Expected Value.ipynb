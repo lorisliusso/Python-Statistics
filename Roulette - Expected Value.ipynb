{
 "cells": [
  {
   "cell_type": "markdown",
   "id": "400de234",
   "metadata": {},
   "source": [
    "# Valore Atteso (Expected Value) & Legge dei Grandi Numeri \n",
    "\n",
    "`Il valore atteso` (o valore medio) per una variabile casuale sta ad indicare il valore che ci si aspetta in media in una lunga serie di osservazioni cioè il valore previsto che si potrà ottenere in un gran numero di prove. \n",
    "\n",
    "<u>Come calcolarlo:</u>\n",
    "\n",
    "**Il valore atteso, di una variabile casuale discreta si ottiene <u>moltiplicando ciascun valore per la rispettiva probabilità e sommando quindi i risultati di ciascun prodotto ottenuto.**</u>"
   ]
  },
  {
   "cell_type": "markdown",
   "id": "9fa01fc4",
   "metadata": {},
   "source": [
    "<img src=\"https://s3.amazonaws.com/si-fl-wp/wp-content/uploads/20170313123309/expected-value.jpg\" alt=\"350\" width=\"550\" align=\"left\"/>\n"
   ]
  },
  {
   "cell_type": "markdown",
   "id": "7441e57a",
   "metadata": {},
   "source": [
    "<img src=\"https://github.com/lorisliusso/Python-Statistics/blob/master/Expected%20Value%20roulette.png?raw=true\" alt=\"550\" width=\"700\" align=\"left\"/>"
   ]
  },
  {
   "cell_type": "markdown",
   "id": "e889e346",
   "metadata": {},
   "source": [
    "<img src=\"https://miro.medium.com/max/1400/1*OTQHk3rsuzwdidO9zgSOfA.png\" alt=\"350\" width=\"550\" align=\"left\"/>"
   ]
  },
  {
   "cell_type": "code",
   "execution_count": 1,
   "id": "0d639837",
   "metadata": {},
   "outputs": [],
   "source": [
    "import numpy as np\n",
    "import matplotlib.pyplot as plt\n",
    "%matplotlib inline"
   ]
  },
  {
   "cell_type": "code",
   "execution_count": 2,
   "id": "be21b02f",
   "metadata": {},
   "outputs": [],
   "source": [
    "#Per semplicità considereremo:\n",
    "\n",
    "#Red= numeri pari nel range [1,36] and != 0 \n",
    "#Black= numeri dispari nel range [1,36] and != 0"
   ]
  },
  {
   "cell_type": "code",
   "execution_count": 3,
   "id": "ac26a7f1",
   "metadata": {},
   "outputs": [
    {
     "name": "stdout",
     "output_type": "stream",
     "text": [
      "You won an average of 0.2€\n",
      "You won an average of -0.06€\n",
      "You won an average of -0.04€\n",
      "You won an average of -0.0228€\n",
      "You won an average of -0.03128€\n",
      "You won an average of -0.02795€\n"
     ]
    }
   ],
   "source": [
    "np.random.seed(123)\n",
    "\n",
    "def ex_value(n_games): \n",
    "    \n",
    "    '''Funzione che restituisce in output \n",
    "    la vincita/perdita media in € per giocata (valore atteso).\n",
    "    \n",
    "    Fisseremo la puntata sempre sul rosso.\n",
    "    '''\n",
    "    \n",
    "    bet=1 #1€\n",
    "    saldo= 0 \n",
    "    \n",
    "    for i in range(n_games):\n",
    "        \n",
    "        num= np.random.randint(0,36+1)\n",
    "        \n",
    "        if num%2==0 and num!=0: #if even (red) (se rosso)\n",
    "            saldo+=bet # +1€\n",
    "        \n",
    "        else: #if odd (black) or num==0 (se nero o 0)\n",
    "            saldo-=bet # -1€\n",
    "    \n",
    "        \n",
    "    return saldo/n_games\n",
    "\n",
    "\n",
    "\n",
    "#Let's try:   \n",
    "        \n",
    "print(f'You won an average of {ex_value(10)}€')\n",
    "print(f'You won an average of {ex_value(100)}€')\n",
    "print(f'You won an average of {ex_value(1000)}€')\n",
    "print(f'You won an average of {ex_value(10000)}€')\n",
    "print(f'You won an average of {ex_value(100000)}€')\n",
    "print(f'You won an average of {ex_value(1000000)}€')"
   ]
  },
  {
   "cell_type": "code",
   "execution_count": null,
   "id": "f80b19a8",
   "metadata": {},
   "outputs": [],
   "source": [
    "np.random.seed(123)\n",
    "\n",
    "#Proviamo a calcolare il valore atteso con games_size di grandezze sempre maggiori da 10 a 20000:\n",
    "\n",
    "n_games_list= np.arange(10,20000, 100) \n",
    "expected_value= [ex_value(n_games) for n_games in n_games_list]"
   ]
  },
  {
   "cell_type": "code",
   "execution_count": null,
   "id": "3fc734f1",
   "metadata": {},
   "outputs": [],
   "source": [
    "#Andiamo a visualizzare i risultati ottenuti:\n",
    "\n",
    "plt.figure(figsize=(14,8))\n",
    "\n",
    "plt.axhline(y=-0.027, color='red', linestyle='-', linewidth=5)\n",
    "\n",
    "plt.plot(n_games_list, expected_value, color='black', linewidth=2)\n",
    "plt.title('Valore atteso su range di giocate da 10 a 20000')\n",
    "plt.xlabel('Games size')\n",
    "plt.ylabel('Expected Value')\n",
    "plt.show()"
   ]
  },
  {
   "cell_type": "markdown",
   "id": "a20a5175",
   "metadata": {},
   "source": [
    "<img src=\"https://media.istockphoto.com/vectors/congratulations-greeting-sign-congrats-graduated-vector-id1148641884?k=20&m=1148641884&s=170667a&w=0&h=UZvEyiD5nxDJiLz5n0i1jdvWn-MR6wt1nomiPV1wSDE=\" alt=\"400\" width=\"500\" align=\"left\"/>"
   ]
  }
 ],
 "metadata": {
  "kernelspec": {
   "display_name": "Python 3 (ipykernel)",
   "language": "python",
   "name": "python3"
  },
  "language_info": {
   "codemirror_mode": {
    "name": "ipython",
    "version": 3
   },
   "file_extension": ".py",
   "mimetype": "text/x-python",
   "name": "python",
   "nbconvert_exporter": "python",
   "pygments_lexer": "ipython3",
   "version": "3.9.7"
  }
 },
 "nbformat": 4,
 "nbformat_minor": 5
}
