{
 "cells": [
  {
   "cell_type": "markdown",
   "metadata": {},
   "source": [
    "# The Central Limit Theorem - Teorema del Limite Centrale"
   ]
  },
  {
   "cell_type": "markdown",
   "metadata": {},
   "source": [
    " <h1>📚 <mark>Introduction to the CLT </mark> </h1>"
   ]
  },
  {
   "cell_type": "markdown",
   "metadata": {},
   "source": [
    "`Il teorema limite centrale` insieme alla legge dei grandi numeri è uno dei teoremi fondamentali in statistica e probabilità. \n",
    "\n",
    "**Esso afferma infatti che la distribuzione della media campionaria è normale a condizione che l'ampiezza del campione sia sufficientemente grande, solitamente >30.**\n",
    "\n",
    "<u>Questo avviene indipendentemete dalla distribuzione della popolazione di partenza.</u>\n",
    "\n",
    "**Sapendo infatti che la distribuzione della media campionaria è normale possiamo mettere in pratica la regola empirica della distribuzione normale:**\n",
    "\n",
    "`Il 68,26% dei valori è compreso fra -1 e +1 deviazioni standard.`\n",
    "\n",
    "`Il 95,44% dei valori è compreso fra -2 e +2 deviazioni standard.` \n",
    "\n",
    "`Il 99,73% dei valori è compreso fra -3 e +3 deviazioni standard.` \n",
    "\n",
    "Un'area di probabilità del 95% è compresa fra -1.96 e +1.96 deviazioni standard. \n",
    "\n",
    "Un'area di probabilità del 99% è compresa fra -2.576 e + 2.576 deviazioni standard. \n"
   ]
  },
  {
   "cell_type": "markdown",
   "metadata": {},
   "source": [
    "* Data una popolazione, consideriamo una feature (esempio: altezza, peso, stipendio, etc...) per ogni individuo.\n",
    "\n",
    "\n",
    "**Qualsiasi sia la forma della distribuzione di partenza (popolazione)** la distribuzione delle medie dei campioni presi dalla popolazione tenderà ad una distribuzione normale.\n",
    "\n",
    "* `the mean of the means` = $ \\mu$ (Law of Large Numbers)\n",
    "* `the standard deviation of the means` = $ \\frac{\\sigma}{\\sqrt{n}} $  (Central Limit Theorem)\n",
    "\n",
    "![](https://upload.wikimedia.org/wikipedia/commons/thumb/7/7b/IllustrationCentralTheorem.png/400px-IllustrationCentralTheorem.png)\n",
    "\n",
    "\n",
    "$$ \\large \\bar{X} \\approx_{n \\rightarrow \\infty} \\mathcal{N}(\\mu,\\frac{\\sigma}{\\sqrt{n}}) $$\n",
    "\n",
    "👩🏻‍🔬  Let's verify this experimentally!"
   ]
  },
  {
   "cell_type": "markdown",
   "metadata": {},
   "source": [
    "<img src=\"https://miro.medium.com/max/1400/1*Mk6EV8oIB1jlbQWcRzNRdg.png\" alt=\"350\" width=\"700\" align=\"left\"/>\n",
    "\n"
   ]
  },
  {
   "cell_type": "markdown",
   "metadata": {},
   "source": [
    "---"
   ]
  },
  {
   "cell_type": "markdown",
   "metadata": {},
   "source": [
    "## 🔢  2) The Dataset"
   ]
  },
  {
   "cell_type": "markdown",
   "metadata": {},
   "source": [
    "We will use the `tips` dataset from the `seaborn` library to illustrate the Central Limit Theorem."
   ]
  },
  {
   "cell_type": "code",
   "execution_count": 26,
   "metadata": {},
   "outputs": [],
   "source": [
    "# --- Data Manipulation ---\n",
    "import numpy as np\n",
    "import pandas as pd\n",
    "\n",
    "# --- Data Visualization ---\n",
    "import seaborn as sns\n",
    "import matplotlib.pyplot as plt\n",
    "\n",
    "# --- Maths ---\n",
    "import math\n",
    "import scipy as stats"
   ]
  },
  {
   "cell_type": "code",
   "execution_count": 12,
   "metadata": {},
   "outputs": [
    {
     "data": {
      "text/html": [
       "<div>\n",
       "<style scoped>\n",
       "    .dataframe tbody tr th:only-of-type {\n",
       "        vertical-align: middle;\n",
       "    }\n",
       "\n",
       "    .dataframe tbody tr th {\n",
       "        vertical-align: top;\n",
       "    }\n",
       "\n",
       "    .dataframe thead th {\n",
       "        text-align: right;\n",
       "    }\n",
       "</style>\n",
       "<table border=\"1\" class=\"dataframe\">\n",
       "  <thead>\n",
       "    <tr style=\"text-align: right;\">\n",
       "      <th></th>\n",
       "      <th>total_bill</th>\n",
       "      <th>tip</th>\n",
       "      <th>sex</th>\n",
       "      <th>smoker</th>\n",
       "      <th>day</th>\n",
       "      <th>time</th>\n",
       "      <th>size</th>\n",
       "    </tr>\n",
       "  </thead>\n",
       "  <tbody>\n",
       "    <tr>\n",
       "      <th>0</th>\n",
       "      <td>16.99</td>\n",
       "      <td>1.01</td>\n",
       "      <td>Female</td>\n",
       "      <td>No</td>\n",
       "      <td>Sun</td>\n",
       "      <td>Dinner</td>\n",
       "      <td>2</td>\n",
       "    </tr>\n",
       "    <tr>\n",
       "      <th>1</th>\n",
       "      <td>10.34</td>\n",
       "      <td>1.66</td>\n",
       "      <td>Male</td>\n",
       "      <td>No</td>\n",
       "      <td>Sun</td>\n",
       "      <td>Dinner</td>\n",
       "      <td>3</td>\n",
       "    </tr>\n",
       "    <tr>\n",
       "      <th>2</th>\n",
       "      <td>21.01</td>\n",
       "      <td>3.50</td>\n",
       "      <td>Male</td>\n",
       "      <td>No</td>\n",
       "      <td>Sun</td>\n",
       "      <td>Dinner</td>\n",
       "      <td>3</td>\n",
       "    </tr>\n",
       "    <tr>\n",
       "      <th>3</th>\n",
       "      <td>23.68</td>\n",
       "      <td>3.31</td>\n",
       "      <td>Male</td>\n",
       "      <td>No</td>\n",
       "      <td>Sun</td>\n",
       "      <td>Dinner</td>\n",
       "      <td>2</td>\n",
       "    </tr>\n",
       "    <tr>\n",
       "      <th>4</th>\n",
       "      <td>24.59</td>\n",
       "      <td>3.61</td>\n",
       "      <td>Female</td>\n",
       "      <td>No</td>\n",
       "      <td>Sun</td>\n",
       "      <td>Dinner</td>\n",
       "      <td>4</td>\n",
       "    </tr>\n",
       "    <tr>\n",
       "      <th>...</th>\n",
       "      <td>...</td>\n",
       "      <td>...</td>\n",
       "      <td>...</td>\n",
       "      <td>...</td>\n",
       "      <td>...</td>\n",
       "      <td>...</td>\n",
       "      <td>...</td>\n",
       "    </tr>\n",
       "    <tr>\n",
       "      <th>239</th>\n",
       "      <td>29.03</td>\n",
       "      <td>5.92</td>\n",
       "      <td>Male</td>\n",
       "      <td>No</td>\n",
       "      <td>Sat</td>\n",
       "      <td>Dinner</td>\n",
       "      <td>3</td>\n",
       "    </tr>\n",
       "    <tr>\n",
       "      <th>240</th>\n",
       "      <td>27.18</td>\n",
       "      <td>2.00</td>\n",
       "      <td>Female</td>\n",
       "      <td>Yes</td>\n",
       "      <td>Sat</td>\n",
       "      <td>Dinner</td>\n",
       "      <td>2</td>\n",
       "    </tr>\n",
       "    <tr>\n",
       "      <th>241</th>\n",
       "      <td>22.67</td>\n",
       "      <td>2.00</td>\n",
       "      <td>Male</td>\n",
       "      <td>Yes</td>\n",
       "      <td>Sat</td>\n",
       "      <td>Dinner</td>\n",
       "      <td>2</td>\n",
       "    </tr>\n",
       "    <tr>\n",
       "      <th>242</th>\n",
       "      <td>17.82</td>\n",
       "      <td>1.75</td>\n",
       "      <td>Male</td>\n",
       "      <td>No</td>\n",
       "      <td>Sat</td>\n",
       "      <td>Dinner</td>\n",
       "      <td>2</td>\n",
       "    </tr>\n",
       "    <tr>\n",
       "      <th>243</th>\n",
       "      <td>18.78</td>\n",
       "      <td>3.00</td>\n",
       "      <td>Female</td>\n",
       "      <td>No</td>\n",
       "      <td>Thur</td>\n",
       "      <td>Dinner</td>\n",
       "      <td>2</td>\n",
       "    </tr>\n",
       "  </tbody>\n",
       "</table>\n",
       "<p>244 rows × 7 columns</p>\n",
       "</div>"
      ],
      "text/plain": [
       "     total_bill   tip     sex smoker   day    time  size\n",
       "0         16.99  1.01  Female     No   Sun  Dinner     2\n",
       "1         10.34  1.66    Male     No   Sun  Dinner     3\n",
       "2         21.01  3.50    Male     No   Sun  Dinner     3\n",
       "3         23.68  3.31    Male     No   Sun  Dinner     2\n",
       "4         24.59  3.61  Female     No   Sun  Dinner     4\n",
       "..          ...   ...     ...    ...   ...     ...   ...\n",
       "239       29.03  5.92    Male     No   Sat  Dinner     3\n",
       "240       27.18  2.00  Female    Yes   Sat  Dinner     2\n",
       "241       22.67  2.00    Male    Yes   Sat  Dinner     2\n",
       "242       17.82  1.75    Male     No   Sat  Dinner     2\n",
       "243       18.78  3.00  Female     No  Thur  Dinner     2\n",
       "\n",
       "[244 rows x 7 columns]"
      ]
     },
     "execution_count": 12,
     "metadata": {},
     "output_type": "execute_result"
    }
   ],
   "source": [
    "tips_df = sns.load_dataset('tips')\n",
    "tips_df"
   ]
  },
  {
   "cell_type": "markdown",
   "metadata": {},
   "source": [
    "###  2.1) Exploratory Data Analysis (EDA)"
   ]
  },
  {
   "cell_type": "markdown",
   "metadata": {},
   "source": [
    "❓ How many rows are available in the dataset ❓"
   ]
  },
  {
   "cell_type": "code",
   "execution_count": 13,
   "metadata": {
    "tags": [
     "challengify"
    ]
   },
   "outputs": [
    {
     "data": {
      "text/plain": [
       "244"
      ]
     },
     "execution_count": 13,
     "metadata": {},
     "output_type": "execute_result"
    }
   ],
   "source": [
    "tips_df.shape[0]  #244 rows (observations)"
   ]
  },
  {
   "cell_type": "markdown",
   "metadata": {},
   "source": [
    "❓ Plot the distribution of the `tip` column 📊 (with 20 bins) ❓"
   ]
  },
  {
   "cell_type": "code",
   "execution_count": 14,
   "metadata": {
    "tags": [
     "challengify"
    ]
   },
   "outputs": [
    {
     "data": {
      "text/plain": [
       "<AxesSubplot:xlabel='tip', ylabel='Count'>"
      ]
     },
     "execution_count": 14,
     "metadata": {},
     "output_type": "execute_result"
    },
    {
     "data": {
      "image/png": "[encoded data removed]",
      "text/plain": [
       "<Figure size 432x288 with 1 Axes>"
      ]
     },
     "metadata": {
      "needs_background": "light"
     },
     "output_type": "display_data"
    }
   ],
   "source": [
    "sns.histplot(tips_df['tip'], kde=True, bins = 20)"
   ]
  },
  {
   "cell_type": "markdown",
   "metadata": {},
   "source": [
    "❓ What are : ❓\n",
    "* the ***average tip***\n",
    "* the ***standard deviation tip*** \n",
    "* the  [***skewness of the tips***](https://whatis.techtarget.com/definition/skewness)\n"
   ]
  },
  {
   "cell_type": "code",
   "execution_count": 15,
   "metadata": {
    "tags": [
     "challengify"
    ]
   },
   "outputs": [
    {
     "name": "stdout",
     "output_type": "stream",
     "text": [
      "Mean: 2.9982786885245902\n",
      "Standard Deviation: 1.3836381890011826\n",
      "Skewness: right\n"
     ]
    }
   ],
   "source": [
    "mu = tips_df['tip'].mean() #media delle tips\n",
    "\n",
    "print('Mean:', mu)\n",
    "\n",
    "sd = tips_df['tip'].std() #deviazione standard delle tips\n",
    "\n",
    "print('Standard Deviation:', sd)\n",
    "\n",
    "skewness = 'right'\n",
    "\n",
    "print('Skewness:', skewness) #asimmetria della distribuzione (destra in questo caso)"
   ]
  },
  {
   "cell_type": "code",
   "execution_count": 16,
   "metadata": {},
   "outputs": [
    {
     "data": {
      "text/plain": [
       "count    244.000000\n",
       "mean       2.998279\n",
       "std        1.383638\n",
       "min        1.000000\n",
       "25%        2.000000\n",
       "50%        2.900000\n",
       "75%        3.562500\n",
       "max       10.000000\n",
       "Name: tip, dtype: float64"
      ]
     },
     "execution_count": 16,
     "metadata": {},
     "output_type": "execute_result"
    }
   ],
   "source": [
    "tips_df.tip.describe() #statistics summary"
   ]
  },
  {
   "cell_type": "markdown",
   "metadata": {},
   "source": [
    "* the \"mode\" seems to be around 2 dollars `(we can't really talk about a mode for a continuous variable but just looking at the histogram with 20 bins, we can give an estimation)\n",
    "    \n",
    "* the \"mean\" is at 2.99 dollars\n",
    "    \n",
    "* the median is at 2.90 dollars\n",
    "    \n",
    "So here we have $ mode < median < mean $ which correspond to a `right skewness` "
   ]
  },
  {
   "cell_type": "markdown",
   "metadata": {},
   "source": [
    "<h1> <mark> Applying the CLT</mark></h1>"
   ]
  },
  {
   "cell_type": "markdown",
   "metadata": {},
   "source": [
    "### 3.1) <u>Graphically</u>"
   ]
  },
  {
   "cell_type": "markdown",
   "metadata": {},
   "source": [
    "* `N` (how many times we sample) controls the random noise. \n",
    "\n",
    "* `n` (sample size) controls the shape of the distribution. \n",
    "\n",
    "**When n is large enough, it *converges* towards a Normal distribution. This is the Central Limit Theorem.**\n",
    "\n"
   ]
  },
  {
   "cell_type": "code",
   "execution_count": 23,
   "metadata": {
    "tags": [
     "delete"
    ]
   },
   "outputs": [
    {
     "data": {
      "text/plain": [
       "<AxesSubplot:ylabel='Count'>"
      ]
     },
     "execution_count": 23,
     "metadata": {},
     "output_type": "execute_result"
    },
    {
     "data": {
      "image/png": "[encoded data removed]",
      "text/plain": [
       "<Figure size 432x288 with 1 Axes>"
      ]
     },
     "metadata": {
      "needs_background": "light"
     },
     "output_type": "display_data"
    }
   ],
   "source": [
    "n = 30 # CLT applies mostly with n>30\n",
    "N = 100\n",
    "means = [tips_df.tip.sample(n, replace=True).mean() for i in range(N)]\n",
    "\n",
    "sns.histplot(means, bins=20)"
   ]
  },
  {
   "cell_type": "markdown",
   "metadata": {},
   "source": [
    "### 3.2) <u>Numerically</u>"
   ]
  },
  {
   "cell_type": "markdown",
   "metadata": {},
   "source": [
    "❓ Let's verify the Central Limit Theorem computationally ❓\n",
    "- Compare `mu` with the mean of means\n",
    "- Compare `sigma` with the standard deviation of the means, but don't forget the $\\sqrt n$ adjustment\n",
    "- Compute the `skewness` of the distribution of the means using `scipy.stats.skew` (should be close to 0)"
   ]
  },
  {
   "cell_type": "code",
   "execution_count": 33,
   "metadata": {},
   "outputs": [
    {
     "data": {
      "text/html": [
       "<div>\n",
       "<style scoped>\n",
       "    .dataframe tbody tr th:only-of-type {\n",
       "        vertical-align: middle;\n",
       "    }\n",
       "\n",
       "    .dataframe tbody tr th {\n",
       "        vertical-align: top;\n",
       "    }\n",
       "\n",
       "    .dataframe thead th {\n",
       "        text-align: right;\n",
       "    }\n",
       "</style>\n",
       "<table border=\"1\" class=\"dataframe\">\n",
       "  <thead>\n",
       "    <tr style=\"text-align: right;\">\n",
       "      <th></th>\n",
       "      <th>CLT Theory</th>\n",
       "      <th>Real Tips</th>\n",
       "    </tr>\n",
       "  </thead>\n",
       "  <tbody>\n",
       "    <tr>\n",
       "      <th>mean</th>\n",
       "      <td>3.00</td>\n",
       "      <td>2.94</td>\n",
       "    </tr>\n",
       "    <tr>\n",
       "      <th>stdev</th>\n",
       "      <td>0.14</td>\n",
       "      <td>0.24</td>\n",
       "    </tr>\n",
       "    <tr>\n",
       "      <th>skewness</th>\n",
       "      <td>0.00</td>\n",
       "      <td>0.11</td>\n",
       "    </tr>\n",
       "  </tbody>\n",
       "</table>\n",
       "</div>"
      ],
      "text/plain": [
       "          CLT Theory  Real Tips\n",
       "mean            3.00       2.94\n",
       "stdev           0.14       0.24\n",
       "skewness        0.00       0.11"
      ]
     },
     "execution_count": 33,
     "metadata": {},
     "output_type": "execute_result"
    }
   ],
   "source": [
    "from scipy.stats import skew\n",
    "\n",
    "index_df = ['mean', 'stdev','skewness']\n",
    "\n",
    "theory = [mu, sd/np.sqrt(n), 0]\n",
    "\n",
    "real_life = [np.mean(means), np.std(means), skew(means)] \n",
    "\n",
    "comparison_df = pd.DataFrame(list(zip(theory,real_life)), \n",
    "                             columns = [\"CLT Theory\",\"Real Tips\"],\n",
    "                             index = index_df)\n",
    "round(comparison_df,2)"
   ]
  },
  {
   "cell_type": "markdown",
   "metadata": {},
   "source": [
    "## 💪  4) Use case: Probabilities of accumulating large tips at the end of a work-day"
   ]
  },
  {
   "cell_type": "markdown",
   "metadata": {},
   "source": [
    "🤔 Let's pick 100 dinners from the dataset (sampling with replacement). \n",
    "\n",
    "<u>What is the probability that the cumulated tips ends up being **greater than 350€**? </u>\n"
   ]
  },
  {
   "cell_type": "markdown",
   "metadata": {},
   "source": [
    "From our Exploratory Data Analysis, we have:\n",
    "- 244 tips (global population)\n",
    "- $\\mu=3€$\n",
    "- $\\sigma=1.38€$\n",
    "\n",
    "<u>Sampling once</u>\n",
    "\n",
    "- Imagine that we draw a sample of size 100 out of the global population of dinners\n",
    "- We observe the sum of these 100 sample tips is 350€, so the average tip $\\mu_X$ is 3.5€ for this sample\n",
    "- **The operation of drawing a sample is random, therefore the average of these sampled data will also be random**\n"
   ]
  },
  {
   "cell_type": "markdown",
   "metadata": {},
   "source": [
    "\n",
    "\n",
    "🎉 Our sample of size $ n = 100 > 30 $ can be considered large enough to apply the Central Limit Theorem (CLT) \n",
    "    \n",
    "👉 If we were to repeat this experiment (i.e. randomly picking a sample of size 100) an infinite number of times, the distribution of sample mean**s** would become exactly a normal distribution.\n",
    "    \n",
    "🔥 **A Gaussian distribution is _FULLY_ characterized by its _mean_ and its _standard deviation_**\n",
    "    \n",
    "❓ What are these mean and standard deviation in the context of a Central Limit Theorem ❓ If you forgot about it, scroll up in your notebook! \n"
   ]
  },
  {
   "cell_type": "markdown",
   "metadata": {},
   "source": [
    "- Shape = Gaussian\n",
    "- `sample_mean` = `mu`\n",
    "- `sample_sd` = `sd` / $ \\sqrt{n} $\n"
   ]
  },
  {
   "cell_type": "markdown",
   "metadata": {},
   "source": [
    "❓ Plot this expected distribution:\n",
    "\n",
    "**On top of it, add the datapoint representing a cumulated tip of 350€ over 100 dinners.**"
   ]
  },
  {
   "cell_type": "code",
   "execution_count": 32,
   "metadata": {
    "tags": [
     "challengify"
    ]
   },
   "outputs": [
    {
     "data": {
      "text/plain": [
       "<matplotlib.collections.PathCollection at 0x1d98b184490>"
      ]
     },
     "execution_count": 32,
     "metadata": {},
     "output_type": "execute_result"
    },
    {
     "data": {
      "image/png": "[encoded data removed]",
      "text/plain": [
       "<Figure size 432x288 with 1 Axes>"
      ]
     },
     "metadata": {
      "needs_background": "light"
     },
     "output_type": "display_data"
    }
   ],
   "source": [
    "from scipy.stats import norm\n",
    "\n",
    "# Expected parameters of the Gaussian variable from the CLT\n",
    "\n",
    "n = 100\n",
    "sample_mean = mu\n",
    "sample_sd = sd/np.sqrt(n)\n",
    "\n",
    "# Instantiating this Gaussian Variable\n",
    "norm_expected = norm(sample_mean, sample_sd)\n",
    "\n",
    "# Plotting the Gaussian Curve\n",
    "x = np.linspace(0, 5, 100) # Most of the tips are between 0 and 5 euros\n",
    "y = norm_expected.pdf(x)\n",
    "plt.plot(x, y)\n",
    "\n",
    "# Additing the targeted point\n",
    "plt.scatter(350/100, norm_expected.pdf(350/100), c='r', s = 300)"
   ]
  },
  {
   "cell_type": "markdown",
   "metadata": {},
   "source": [
    "👉 For this restaurant, we clearly see that 350 euros of cumulated tips over 100 dinners (average tip of 3.50 euros) seems to be is virtually impossible (this probability of this event would be close to zero).\n",
    "\n",
    "**We are almost at the end of the challenge !**\n",
    "\n",
    "🔢 Let's denote $ \\bar{X} $ the average tip over 100 dinners \n",
    "\n",
    "* ❓ Compute numerically $ \\mathbb{P} ( \\bar{X} > 3.50 ) $ and store it in `proba_350` variable ❓\n",
    "* 📚 You will need the **`cumulative distribution function (cdf)`** from [`scipy.stats.norm`](https://docs.scipy.org/doc/scipy/reference/generated/scipy.stats.norm.html)"
   ]
  },
  {
   "cell_type": "code",
   "execution_count": 35,
   "metadata": {
    "tags": [
     "challengify"
    ]
   },
   "outputs": [
    {
     "data": {
      "text/plain": [
       "0.00014386590520809595"
      ]
     },
     "execution_count": 35,
     "metadata": {},
     "output_type": "execute_result"
    }
   ],
   "source": [
    "proba_g_350 = 1 - norm_expected.cdf(3.5)\n",
    "proba_g_350"
   ]
  },
  {
   "cell_type": "code",
   "execution_count": 41,
   "metadata": {
    "tags": [
     "delete"
    ]
   },
   "outputs": [
    {
     "name": "stdout",
     "output_type": "stream",
     "text": [
      "Probability to observe total tips greater than 350€ = 0.01 %\n"
     ]
    }
   ],
   "source": [
    "print(f\"Probability to observe total tips greater than 350€ = {round(proba_g_350*100,2)} %\")"
   ]
  },
  {
   "cell_type": "markdown",
   "metadata": {},
   "source": [
    "❗️ If we had observed such an amount, we could have deduced with a 99.99% confidence level that the 100 dinners selected were ***not randomly sampled*** from the population of dinners."
   ]
  },
  {
   "cell_type": "markdown",
   "metadata": {},
   "source": [
    "## ⭐️  5) The `z-score`"
   ]
  },
  {
   "cell_type": "markdown",
   "metadata": {},
   "source": [
    "<u>**Alternative computation using z-score**</u>\n",
    "\n",
    "🤔 Imagine you didn't have access to the `SciPy` library (or even to a computer) to compute the probability density function of a custom-made Gaussian distribution numerically. Which workaround could we use to this end ?  \n",
    "\n",
    "💡 Instead of computing a Gaussian distribution with specific mean and sigma, a much more elegant way is to rephrase our problem to use the **`Standard Normal distribution`** $\\mathcal N(0,1)$, from which we could read usual values in a **`Standard Statistical table`** 👇\n",
    "\n",
    "$$ X \\sim \\mathcal N(\\mu,\\sigma) \\leftrightarrow Y =  \\frac{X - \\mu}{\\sigma} \\sim \\mathcal N(0,1) $$"
   ]
  },
  {
   "cell_type": "markdown",
   "metadata": {},
   "source": [
    "<img src='https://github.com/lewagon/data-images/blob/master/math/z-table.png?raw=true'>"
   ]
  },
  {
   "cell_type": "markdown",
   "metadata": {},
   "source": [
    "❓First, compute the [z-score](https://en.wikipedia.org/wiki/Standard_score) of your observation, and store it into a variable `z`❓\n",
    "\n",
    "As a reminder: \n",
    "* sample size $ n = 100$\n",
    "* mean $ = 3.5$ €\n",
    "\n",
    "> The **`z-score`** of a measured observation $x$ is simply the value of the observation, **measured by the number of standard deviations above or below the mean** of the underlying distribution from which the observation is derived.\n",
    "\n",
    "$$z={x-\\mu  \\over \\sigma }$$\n",
    "\n",
    "<details>\n",
    "    <summary>💡 Hint</summary>\n",
    "In our case, the value we observe is \"3.5€\", and the underlying distribution from which this observation was made is the means of samples (of size 100), which is Gaussian/normal with a mean $\\mu$ and a std $\\sigma \\over \\sqrt{100}$ according to the CLT.\n",
    "\n",
    "</details>"
   ]
  },
  {
   "cell_type": "code",
   "execution_count": 37,
   "metadata": {},
   "outputs": [],
   "source": [
    "z = None"
   ]
  },
  {
   "cell_type": "code",
   "execution_count": 39,
   "metadata": {
    "tags": [
     "delete"
    ]
   },
   "outputs": [
    {
     "data": {
      "text/plain": [
       "3.626101935200207"
      ]
     },
     "execution_count": 39,
     "metadata": {},
     "output_type": "execute_result"
    }
   ],
   "source": [
    "z = ((350/100) - mu) / (sd/np.sqrt(100))\n",
    "z"
   ]
  },
  {
   "cell_type": "markdown",
   "metadata": {},
   "source": [
    "❓ Use the standard table above to find the probability we are looking for"
   ]
  },
  {
   "cell_type": "markdown",
   "metadata": {
    "tags": [
     "challengify"
    ]
   },
   "source": [
    "> A `z-score` of $3.62$ corresponds to an area under the curve of the Normal distribution $ \\mathcal{N}(0,1)$ with a surface equal to $0.9998$\n",
    "\n",
    "> Hence, the probability of having the sum of tips greater than 350 euros is equal to  $0.0002$"
   ]
  },
  {
   "cell_type": "markdown",
   "metadata": {},
   "source": [
    "❓ Double-check this probability with with `scipy.stats.norm` as done previously. Store it into a `proba_z` variable."
   ]
  },
  {
   "cell_type": "code",
   "execution_count": null,
   "metadata": {},
   "outputs": [],
   "source": [
    "proba_z = None"
   ]
  },
  {
   "cell_type": "code",
   "execution_count": 40,
   "metadata": {
    "tags": [
     "delete"
    ]
   },
   "outputs": [
    {
     "data": {
      "text/plain": [
       "0.0001"
      ]
     },
     "execution_count": 40,
     "metadata": {},
     "output_type": "execute_result"
    },
    {
     "data": {
      "image/png": "[encoded data removed]",
      "text/plain": [
       "<Figure size 432x288 with 1 Axes>"
      ]
     },
     "metadata": {
      "needs_background": "light"
     },
     "output_type": "display_data"
    }
   ],
   "source": [
    "from scipy import stats\n",
    "\n",
    "# --- Drawing a Standard Gaussian Curve with mean 0 and std 1\n",
    "standard_gaussian = stats.norm()\n",
    "x = np.linspace(-5, 5, 100)\n",
    "y = standard_gaussian.pdf(x)\n",
    "plt.plot(x, y)\n",
    "\n",
    "# --- Adding the z-score of the observations on top of it\n",
    "plt.scatter(z, standard_gaussian.pdf(z), c='r', s = 300)\n",
    "\n",
    "# --- Computing the cdf of z\n",
    "cumulated_z = standard_gaussian.cdf(z)\n",
    "\n",
    "# --- Computing the proba that the standard gaussian is above the z-score\n",
    "proba_z = 1 - cumulated_z\n",
    "round(proba_z,4)"
   ]
  },
  {
   "cell_type": "code",
   "execution_count": null,
   "metadata": {},
   "outputs": [],
   "source": []
  }
 ],
 "metadata": {
  "kernelspec": {
   "display_name": "Python 3 (ipykernel)",
   "language": "python",
   "name": "python3"
  },
  "language_info": {
   "codemirror_mode": {
    "name": "ipython",
    "version": 3
   },
   "file_extension": ".py",
   "mimetype": "text/x-python",
   "name": "python",
   "nbconvert_exporter": "python",
   "pygments_lexer": "ipython3",
   "version": "3.9.7"
  }
 },
 "nbformat": 4,
 "nbformat_minor": 4
}
