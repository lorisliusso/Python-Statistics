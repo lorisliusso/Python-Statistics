{
 "cells": [
  {
   "cell_type": "markdown",
   "id": "40246fa0",
   "metadata": {},
   "source": [
    "# Binomial Distribution - Distribuzione binomiale\n",
    "\n",
    "`La Distribuzione Binomiale` è una distribuzione di probabilità discreta utilizzata per calcolare la probabilità di ottenere un determinato <u>numero di successi su una certa quantità di ripetizioni dello stesso esperimento.</u>\n",
    "\n",
    "***Le 4 condizioni fondamentali per applicare questo tipo di distribuzione sono le seguenti:***\n",
    "\n",
    "<ul>\n",
    "\n",
    "<li>I risultati possibili sono di successo o fallimento</li>\n",
    "<li>I risultati delle prove precedenti non influenzano il risultato di un'altra prova</li>\n",
    "<li>Il numero di prove è predeterminato</li>\n",
    "<li>La probabilità di successo di ogni prova deve sempre essere p</li>\n",
    "    \n",
    " </ul>\n",
    "\n",
    "<u>I parametri utilizzati sono:</u>\n",
    "\n",
    "**n**= il numero di prove \n",
    "\n",
    "**p**= probabilità di successo di ogni prova\n",
    "\n"
   ]
  },
  {
   "cell_type": "markdown",
   "id": "816c0e94",
   "metadata": {},
   "source": [
    "<img src=\"https://chrispiech.github.io/probabilityForComputerScientists/img/chapters/binEquation2.png\" alt=\"350\" width=\"550\" align=\"left\"/>"
   ]
  },
  {
   "cell_type": "markdown",
   "id": "9a6c2d6d",
   "metadata": {},
   "source": [
    "<img src=\"https://miro.medium.com/max/1400/1*OTQHk3rsuzwdidO9zgSOfA.png\" alt=\"350\" width=\"550\" align=\"left\"/>"
   ]
  },
  {
   "cell_type": "markdown",
   "id": "0f8ce631",
   "metadata": {},
   "source": [
    "# Real Life Examples:"
   ]
  },
  {
   "cell_type": "markdown",
   "id": "15a44764",
   "metadata": {},
   "source": [
    "## ESEMPIO 1: Apertura di un Ristorante 🍝\n",
    "\n",
    "Un nuovo Ristorante in città ha una probabilità di sopravvivere del **20%** dopo il primo anno.\n",
    "\n",
    "Se quest'anno hanno aperto **14** ristoranti, <u>qual'è la probabilità che esattamente 4 ristoranti sopravvivano dopo il primo anno?</ul>\n",
    "\n",
    "**n**= 14\n",
    "**p**= 0.2\n"
   ]
  },
  {
   "cell_type": "code",
   "execution_count": 131,
   "id": "89bebf2a",
   "metadata": {},
   "outputs": [],
   "source": [
    "import numpy as np\n",
    "import matplotlib.pyplot as plt\n",
    "%matplotlib inline"
   ]
  },
  {
   "cell_type": "code",
   "execution_count": 132,
   "id": "f521b97f",
   "metadata": {},
   "outputs": [],
   "source": [
    "#Let'use Scipy\n",
    "\n",
    "import scipy.stats as stats"
   ]
  },
  {
   "cell_type": "code",
   "execution_count": 133,
   "id": "c5a9ab18",
   "metadata": {},
   "outputs": [],
   "source": [
    "#The scipy.stats.binom contains all the methods required to generate and work\n",
    "#with a binomial distribution. The most frequently methods are: pmf(), cdf(), ppf()\n",
    "\n",
    "#Let's istantiate the binomial random variable with the n and p parameters:\n",
    "\n",
    "X_rv= stats.binom(\n",
    "                n=14,\n",
    "                p=0.2,\n",
    ")"
   ]
  },
  {
   "cell_type": "code",
   "execution_count": 134,
   "id": "cc4dcd9a",
   "metadata": {},
   "outputs": [
    {
     "data": {
      "text/plain": [
       "0.17197049053184013"
      ]
     },
     "execution_count": 134,
     "metadata": {},
     "output_type": "execute_result"
    }
   ],
   "source": [
    "#Once created we can use the pmf method of this object to calculate the exact probability:\n",
    "\n",
    "proba_4= X_rv.pmf(4)\n",
    "proba_4"
   ]
  },
  {
   "cell_type": "code",
   "execution_count": 135,
   "id": "8de28863",
   "metadata": {},
   "outputs": [
    {
     "data": {
      "text/plain": [
       "0.17197049053184013"
      ]
     },
     "execution_count": 135,
     "metadata": {},
     "output_type": "execute_result"
    }
   ],
   "source": [
    "#Stessa cosa:\n",
    "\n",
    "proba_4= stats.binom.pmf(k=4,\n",
    "                         n=14,\n",
    "                         p=0.2)\n",
    "\n",
    "proba_4"
   ]
  },
  {
   "cell_type": "code",
   "execution_count": 136,
   "id": "5227037e",
   "metadata": {},
   "outputs": [],
   "source": [
    "n_restaurants= np.arange(0,14+1) \n",
    "\n",
    "n_restaurants_proba= X_rv.pmf(n_restaurants)"
   ]
  },
  {
   "cell_type": "code",
   "execution_count": 137,
   "id": "781d762d",
   "metadata": {},
   "outputs": [
    {
     "data": {
      "image/png": "[encoded data removed]",
      "text/plain": [
       "<Figure size 1008x432 with 1 Axes>"
      ]
     },
     "metadata": {
      "needs_background": "light"
     },
     "output_type": "display_data"
    }
   ],
   "source": [
    "plt.figure(figsize=(14,6))\n",
    "\n",
    "plt.axhline(y=0.171, color='orange', linestyle='-', linewidth=4)\n",
    "\n",
    "plt.bar(n_restaurants, n_restaurants_proba)\n",
    "\n",
    "plt.title('Probability Mass Function (PMF)')\n",
    "plt.xlabel('N_Restaurants')\n",
    "plt.ylabel('Probability')\n",
    "plt.grid()\n",
    "plt.show()"
   ]
  },
  {
   "cell_type": "code",
   "execution_count": 138,
   "id": "bb0c17db",
   "metadata": {},
   "outputs": [
    {
     "data": {
      "text/plain": [
       "1.0000000000000004"
      ]
     },
     "execution_count": 138,
     "metadata": {},
     "output_type": "execute_result"
    }
   ],
   "source": [
    "#Somma delle proba deve restituire 1:\n",
    "\n",
    "sum(n_restaurants_proba)"
   ]
  },
  {
   "cell_type": "markdown",
   "id": "392e6bbc",
   "metadata": {},
   "source": [
    "## ESEMPIO 2: Gruppo Sanguigno 🩸"
   ]
  },
  {
   "cell_type": "markdown",
   "id": "1a80e2ea",
   "metadata": {},
   "source": [
    "Una coppia ha un **25%** di probabilità di avere un figlio con gruppo sanguigno 0.\n",
    "\n",
    "<u>Qual'è la probabilità che 3 dei loro <strong>5 figli</strong> abbiano il gruppo 0?</u>\n",
    "\n",
    "**n**=5\n",
    "\n",
    "**p**=0.25"
   ]
  },
  {
   "cell_type": "code",
   "execution_count": 139,
   "id": "ea695fd5",
   "metadata": {},
   "outputs": [],
   "source": [
    "X_rv= stats.binom(\n",
    "    n=5, \n",
    "    p=0.25 \n",
    "      )"
   ]
  },
  {
   "cell_type": "code",
   "execution_count": 140,
   "id": "d403e615",
   "metadata": {},
   "outputs": [
    {
     "data": {
      "text/plain": [
       "0.08789062499999994"
      ]
     },
     "execution_count": 140,
     "metadata": {},
     "output_type": "execute_result"
    }
   ],
   "source": [
    "proba_3= X_rv.pmf(3)\n",
    "proba_3"
   ]
  },
  {
   "cell_type": "code",
   "execution_count": 141,
   "id": "a1b3d6bb",
   "metadata": {},
   "outputs": [],
   "source": [
    "n_children= np.arange(0,5+1) \n",
    "\n",
    "n_children_proba= X_rv.pmf(n_children)"
   ]
  },
  {
   "cell_type": "code",
   "execution_count": 142,
   "id": "178705d9",
   "metadata": {},
   "outputs": [
    {
     "data": {
      "image/png": "[encoded data removed]",
      "text/plain": [
       "<Figure size 1008x432 with 1 Axes>"
      ]
     },
     "metadata": {
      "needs_background": "light"
     },
     "output_type": "display_data"
    }
   ],
   "source": [
    "plt.figure(figsize=(14,6))\n",
    "\n",
    "plt.axhline(y=0.171, color='orange', linestyle='-', linewidth=4)\n",
    "\n",
    "plt.bar(n_children, n_children_proba)\n",
    "\n",
    "plt.title('Probability Mass Function (PMF)')\n",
    "plt.xlabel('N_Children')\n",
    "plt.ylabel('Probability')\n",
    "plt.grid()\n",
    "plt.show()"
   ]
  },
  {
   "cell_type": "markdown",
   "id": "0977b23d",
   "metadata": {},
   "source": [
    "### Qual'è la probabilità che ALMENO 3 dei loro  5 figli abbiano il gruppo 0?\n",
    "\n",
    "### P(X >= 3)\n"
   ]
  },
  {
   "cell_type": "code",
   "execution_count": 143,
   "id": "9302d7c5",
   "metadata": {},
   "outputs": [
    {
     "data": {
      "text/plain": [
       "0.10351562499999994"
      ]
     },
     "execution_count": 143,
     "metadata": {},
     "output_type": "execute_result"
    }
   ],
   "source": [
    "#Usando Pmf()\n",
    "\n",
    "at_least_3= X_rv.pmf(3) + X_rv.pmf(4) + X_rv.pmf(5)\n",
    "at_least_3"
   ]
  },
  {
   "cell_type": "code",
   "execution_count": 144,
   "id": "92a5ef60",
   "metadata": {},
   "outputs": [
    {
     "data": {
      "text/plain": [
       "0.103515625"
      ]
     },
     "execution_count": 144,
     "metadata": {},
     "output_type": "execute_result"
    }
   ],
   "source": [
    "#Usando Cdf()\n",
    "\n",
    "at_least_3_cdf= 1 - X_rv.cdf(2) #praticamente 100% (1) - probabilità accumulata (CDF) da 2 incluso a 0.\n",
    "at_least_3_cdf"
   ]
  },
  {
   "cell_type": "markdown",
   "id": "2eece214",
   "metadata": {},
   "source": [
    "## ESEMPIO 3: Farmaco 🧪"
   ]
  },
  {
   "cell_type": "markdown",
   "id": "a5ce14ca",
   "metadata": {},
   "source": [
    "Medical professionals use the binomial distribution to model the probability that a certain number of patients will experience side effects (effetti collaterali) as a result of taking new medications.\n",
    "\n",
    "For example, suppose it is known that **5%** of adults who take a certain medication experience negative side effects. We can use a Binomial Distribution Calculator to find the probability that more than a certain number of patients in a random sample of **100** will experience negative side effects.\n",
    "\n",
    "<u> <strong>P(X > 5 patients experience side effects) </strong>  ❓ </u>\n",
    "\n",
    "<u> <strong>P(X > 10 patients experience side effects)</strong> ❓</u>\n",
    "\n",
    "<u> <strong>P(X > 15 patients experience side effects) </strong>❓</u>"
   ]
  },
  {
   "cell_type": "code",
   "execution_count": 145,
   "id": "116fbfa1",
   "metadata": {},
   "outputs": [],
   "source": [
    "X_rv= stats.binom(\n",
    "    n=100, \n",
    "    p=0.05 \n",
    "      )"
   ]
  },
  {
   "cell_type": "code",
   "execution_count": 146,
   "id": "ec9b324d",
   "metadata": {},
   "outputs": [
    {
     "data": {
      "text/plain": [
       "0.3840008720438586"
      ]
     },
     "execution_count": 146,
     "metadata": {},
     "output_type": "execute_result"
    }
   ],
   "source": [
    "proba_g_5= 1 - X_rv.cdf(5)\n",
    "proba_g_5"
   ]
  },
  {
   "cell_type": "code",
   "execution_count": 147,
   "id": "2d279df9",
   "metadata": {},
   "outputs": [
    {
     "data": {
      "text/plain": [
       "0.011472410067484673"
      ]
     },
     "execution_count": 147,
     "metadata": {},
     "output_type": "execute_result"
    }
   ],
   "source": [
    "proba_g_10= 1 - X_rv.cdf(10)\n",
    "proba_g_10"
   ]
  },
  {
   "cell_type": "code",
   "execution_count": 148,
   "id": "29bd4913",
   "metadata": {},
   "outputs": [
    {
     "data": {
      "text/plain": [
       "3.705407617760059e-05"
      ]
     },
     "execution_count": 148,
     "metadata": {},
     "output_type": "execute_result"
    }
   ],
   "source": [
    "proba_g_15= 1 - X_rv.cdf(15)\n",
    "proba_g_15 #0.0004"
   ]
  }
 ],
 "metadata": {
  "kernelspec": {
   "display_name": "Python 3 (ipykernel)",
   "language": "python",
   "name": "python3"
  },
  "language_info": {
   "codemirror_mode": {
    "name": "ipython",
    "version": 3
   },
   "file_extension": ".py",
   "mimetype": "text/x-python",
   "name": "python",
   "nbconvert_exporter": "python",
   "pygments_lexer": "ipython3",
   "version": "3.9.7"
  }
 },
 "nbformat": 4,
 "nbformat_minor": 5
}
