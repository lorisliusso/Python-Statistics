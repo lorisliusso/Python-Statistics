{
 "cells": [
  {
   "cell_type": "markdown",
   "id": "05446ab6",
   "metadata": {},
   "source": [
    "# Poisson Distribution - Distribuzione di Poisson"
   ]
  },
  {
   "cell_type": "markdown",
   "id": "da733fb4",
   "metadata": {},
   "source": [
    "`La Distribuzione di Poisson` è una distribuzione di probabilità discreta\n",
    "che viene utilizzata quando si vuole conoscere la probabilità che un certo **numero di successi/eventi si verifichino in un determinato intervallo temporale.**\n",
    "\n",
    "<u>Esempi:</u>\n",
    "\n",
    "<ul>\n",
    "    \n",
    "<li>Calcolare la probabilità di avere un determinato numero di visitatori sul proprio sito entro un'ora, conoscendo la media dei visitatori passati per ora. </li>\n",
    "\n",
    "<li>Stimare il numero di incidenti d'auto a un incrocio sulla base dello storico passato.</li></ul>\n",
    "    \n",
    "<u>I parametri per utilizzare la formula di Poisson sono i seguenti:</u>\n",
    "    \n",
    "**x** = numero di eventi in un determinato intervallo\n",
    "    \n",
    "**λ** = il numero medio di eventi per intervallo (media)\n",
    "    \n",
    "<em><strong>e</strong></em> = numero di Eulero (costante uguale a 2,71828...)"
   ]
  },
  {
   "cell_type": "markdown",
   "id": "88ab4fd6",
   "metadata": {},
   "source": [
    "<img src=\"https://andymath.com/wp-content/uploads/2019/03/PoissonProbability.jpg\" alt=\"350\" width=\"500\" align=\"left\"/>\n",
    "\n",
    "\n"
   ]
  },
  {
   "cell_type": "markdown",
   "id": "ab8f8da2",
   "metadata": {},
   "source": [
    "## ESEMPIO 1: Call Center\n",
    "\n",
    "Il numero di chiamate in arrivo ad un call center segue una distribuzione di Poisson a un tasso di **5** chiamate/ora. \n",
    "\n",
    "Qual'è la probabilità che arrivino esattamente **6** chiamate tra le 22 e le 23? (praticamente la probabilità di avere 6 chiamate in un ora piuttosto che 5)"
   ]
  },
  {
   "cell_type": "code",
   "execution_count": 2,
   "id": "362625fc",
   "metadata": {},
   "outputs": [],
   "source": [
    "import numpy as np\n",
    "import matplotlib.pyplot as plt\n",
    "%matplotlib inline"
   ]
  },
  {
   "cell_type": "code",
   "execution_count": 3,
   "id": "26dcc7b4",
   "metadata": {},
   "outputs": [],
   "source": [
    "#Let'use Scipy\n",
    "\n",
    "import scipy.stats as stats"
   ]
  },
  {
   "cell_type": "code",
   "execution_count": 5,
   "id": "d1dc6276",
   "metadata": {},
   "outputs": [
    {
     "data": {
      "text/plain": [
       "0.1462228081398754"
      ]
     },
     "execution_count": 5,
     "metadata": {},
     "output_type": "execute_result"
    }
   ],
   "source": [
    "proba_6= stats.poisson.pmf(\n",
    "         k=6,  #x -> 6 chiamate/ora\n",
    "         mu=5) #mean(λ) 5 chiamate/ora\n",
    "\n",
    "proba_6 #Abbiamo il 14.6% di probabilità di avere esattamente 6 chiamate/ora."
   ]
  },
  {
   "cell_type": "markdown",
   "id": "9731d338",
   "metadata": {},
   "source": [
    "## ESEMPIO 2: Ristorante\n",
    "\n",
    "Un Ristorante riceve in media **100 clienti** al giorno. \n",
    "\n",
    "<u>Determina le seguenti probabilità:</u>\n",
    "\n",
    "**P(X > 110 clienti in un determinato giorno)** ❓\n",
    "\n",
    "**P(X > 120 clienti in un determinato giorno)** ❓\n",
    "\n",
    "**P(X > 130 clienti in un determinato giorno)** ❓"
   ]
  },
  {
   "cell_type": "code",
   "execution_count": 6,
   "id": "81a95ea6",
   "metadata": {},
   "outputs": [
    {
     "data": {
      "text/plain": [
       "0.14713734844226967"
      ]
     },
     "execution_count": 6,
     "metadata": {},
     "output_type": "execute_result"
    }
   ],
   "source": [
    "proba_g_110= 1 - stats.poisson.cdf(k=110, mu=100) \n",
    "\n",
    "proba_g_110 "
   ]
  },
  {
   "cell_type": "code",
   "execution_count": 8,
   "id": "c105de02",
   "metadata": {},
   "outputs": [
    {
     "data": {
      "text/plain": [
       "0.02266932907835273"
      ]
     },
     "execution_count": 8,
     "metadata": {},
     "output_type": "execute_result"
    }
   ],
   "source": [
    "proba_g_120= 1 - stats.poisson.cdf(k=120, mu=100) \n",
    "\n",
    "proba_g_120 "
   ]
  },
  {
   "cell_type": "code",
   "execution_count": 10,
   "id": "dd7db965",
   "metadata": {},
   "outputs": [
    {
     "data": {
      "text/plain": [
       "0.0017068403705013946"
      ]
     },
     "execution_count": 10,
     "metadata": {},
     "output_type": "execute_result"
    }
   ],
   "source": [
    "proba_g_130= 1 - stats.poisson.cdf(k=130, mu=100) \n",
    "\n",
    "proba_g_130 "
   ]
  },
  {
   "cell_type": "markdown",
   "id": "bb2e5dbf",
   "metadata": {},
   "source": [
    "## ESEMPIO 3: Azienda di produzione"
   ]
  },
  {
   "cell_type": "markdown",
   "id": "473c4df8",
   "metadata": {},
   "source": [
    "Il responsabile della produzione di un'azienda ha rilevato che, \n",
    "negli ultimi **100** giorni, si sono riscontrate **10** anomalie. \n",
    "\n",
    "<u>Qual è la probabilità di avere almeno **2** guasti nei 3 giorni successivi?</u>\n",
    "\n",
    "<ul>\n",
    "\n",
    "<li><strong>Abbiamo quindi una media di 0.1 guasti al giorno (10/100), che in 3 giorni è pari a una media di 0.3 guasti (0.1*3)</strong></li>\n",
    " \n",
    "<li><strong><em> Quindi quello che stiamo cercando è P(X >= 2) in 3 giorni</em></strong></li>\n",
    "    \n",
    "</ul>\n",
    "\n"
   ]
  },
  {
   "cell_type": "code",
   "execution_count": 11,
   "id": "f5b35e51",
   "metadata": {},
   "outputs": [
    {
     "data": {
      "text/plain": [
       "0.03693631311376677"
      ]
     },
     "execution_count": 11,
     "metadata": {},
     "output_type": "execute_result"
    }
   ],
   "source": [
    "proba= 1 - stats.poisson.cdf(k=1, mu=0.3) #1(100%) - pmf(1)- pmf(0) --> cioè 1(100%) - cdf(1) \n",
    "proba"
   ]
  },
  {
   "cell_type": "code",
   "execution_count": 12,
   "id": "77baeaf9",
   "metadata": {},
   "outputs": [
    {
     "data": {
      "text/plain": [
       "0.03693631311376677"
      ]
     },
     "execution_count": 12,
     "metadata": {},
     "output_type": "execute_result"
    }
   ],
   "source": [
    "#Stessa cosa usando pmf():\n",
    "\n",
    "proba= 1 - stats.poisson.pmf(k=1, mu=0.3) - stats.poisson.pmf(k=0, mu=0.3)\n",
    "proba"
   ]
  },
  {
   "cell_type": "markdown",
   "id": "fc4e869c",
   "metadata": {},
   "source": [
    "## ESEMPIO 4: Number of Website Visitors per Hour\n",
    "\n",
    "Website hosting companies use the Poisson distribution to model the number of expected visitors per hour that websites will receive.\n",
    "\n",
    "For example, suppose a given website receives an average of **20** visitors per hour. \n",
    "\n",
    "<u>We can use the Poisson distribution calculator to find the probability that the website receives more than a certain number of visitors in a given hour:</u>\n",
    "\n",
    "**P(X > 25 visitors)**❓ = 0.11218\n",
    "\n",
    "**P(X > 30 visitors)**❓ = 0.01347\n",
    "\n",
    "**P(X > 35 visitors)**❓ = 0.00080\n",
    "\n"
   ]
  },
  {
   "cell_type": "code",
   "execution_count": 13,
   "id": "d9ca397d",
   "metadata": {},
   "outputs": [
    {
     "data": {
      "text/plain": [
       "0.1121849727179699"
      ]
     },
     "execution_count": 13,
     "metadata": {},
     "output_type": "execute_result"
    }
   ],
   "source": [
    "proba_g_25= 1 - stats.poisson.cdf(k=25, mu=20) \n",
    "\n",
    "proba_g_25"
   ]
  },
  {
   "cell_type": "code",
   "execution_count": 14,
   "id": "15b759f2",
   "metadata": {},
   "outputs": [
    {
     "data": {
      "text/plain": [
       "0.01347468127992224"
      ]
     },
     "execution_count": 14,
     "metadata": {},
     "output_type": "execute_result"
    }
   ],
   "source": [
    "proba_g_30= 1 - stats.poisson.cdf(k=30, mu=20) \n",
    "\n",
    "proba_g_30 "
   ]
  },
  {
   "cell_type": "code",
   "execution_count": 15,
   "id": "506f0dfa",
   "metadata": {},
   "outputs": [
    {
     "data": {
      "text/plain": [
       "0.0008036599614044126"
      ]
     },
     "execution_count": 15,
     "metadata": {},
     "output_type": "execute_result"
    }
   ],
   "source": [
    "proba_g_35= 1 - stats.poisson.cdf(k=35, mu=20) \n",
    "\n",
    "proba_g_35"
   ]
  },
  {
   "cell_type": "markdown",
   "id": "6c6f7494",
   "metadata": {},
   "source": [
    "<img src=\"https://media.istockphoto.com/vectors/congratulations-greeting-sign-congrats-graduated-vector-id1148641884?k=20&m=1148641884&s=170667a&w=0&h=UZvEyiD5nxDJiLz5n0i1jdvWn-MR6wt1nomiPV1wSDE=\" alt=\"400\" width=\"500\" align=\"left\"/>"
   ]
  }
 ],
 "metadata": {
  "kernelspec": {
   "display_name": "Python 3 (ipykernel)",
   "language": "python",
   "name": "python3"
  },
  "language_info": {
   "codemirror_mode": {
    "name": "ipython",
    "version": 3
   },
   "file_extension": ".py",
   "mimetype": "text/x-python",
   "name": "python",
   "nbconvert_exporter": "python",
   "pygments_lexer": "ipython3",
   "version": "3.9.7"
  }
 },
 "nbformat": 4,
 "nbformat_minor": 5
}
