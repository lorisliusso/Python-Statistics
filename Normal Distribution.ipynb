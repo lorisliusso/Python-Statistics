{
 "cells": [
  {
   "cell_type": "markdown",
   "id": "ef012427",
   "metadata": {},
   "source": [
    "# THE NORMAL DISTRIBUTION - Distribuzione Normale \n",
    "\n",
    "\n",
    "**La Distribuzione Normale o Gaussiana** è <u>la distribuzione di probabilità continua più importante ed\n",
    "utilizzata in statistica.</u>\n",
    "\n",
    "\n",
    "<mark><u>Caratteristiche:</u></mark>\n",
    "\n",
    "<ul>\n",
    "    \n",
    "<li> La curva delle frequenze della distribuzione Normale ha una forma\n",
    "caratteristica, simile ad una campana </li>\n",
    "<li> Il valore medio si trova esattamente al centro della distribuzione, e la curva è\n",
    "    simmetrica rispetto ad esso: quindi <u>valor medio, mediana e moda coincidono</u> </li>\n",
    "<li> La maggior parte delle osservazioni si concentrano intorno al valore medio </li>\n",
    "<li> Allontanandosi dal valore medio, la curva si avvicina sempre più all’asse delle\n",
    "ascisse ma non giunge mai a toccarlo: quindi si possono avere anche (pochissime)\n",
    "osservazioni che risultano molto distanti dalla media </li>\n",
    "    \n",
    "   </ul>\n",
    "   \n",
    "   \n",
    "<mark><strong>Regola empirica della Distribuzone Normale:</strong></mark>\n",
    " \n",
    " <ul>\n",
    "    \n",
    "  \n",
    "<li><strong>Il 68,26% dei valori è compreso fra -1 e +1 deviazioni standard.</strong></li>\n",
    "\n",
    "<li><strong>Il 95,44% dei valori è compreso fra -2 e +2 deviazioni standard.</strong> </li>\n",
    "\n",
    "<li><strong>Il 99,73% dei valori è compreso fra -3 e +3 deviazioni standard. </strong></li> <br>\n",
    "    \n",
    "\n",
    "<li>Un'area di probabilità del 95% è compresa fra -1.96 e +1.96 deviazioni standard. </li>\n",
    "\n",
    "<li>Un'area di probabilità del 99% è compresa fra -2.576 e + 2.576 deviazioni standard. </li>\n",
    "    \n",
    "   </ul>\n",
    "   \n",
    "   \n",
    "La Distribuzione Normale risulta la più importante perchè la maggior parte della variabili nel mondo reale segue esattamente una distribuzione di tipo normale come ad esempio: Altezza popolazione, peso, misurazioni mediche, voti scolastici, variabili di tipo finanziario etc.\n"
   ]
  },
  {
   "cell_type": "markdown",
   "id": "4fb21478",
   "metadata": {},
   "source": [
    "<img src=\"https://github.com/lorisliusso/Python-Statistics/blob/master/Standard%20Normal%20Distribution.png?raw=true\" alt=\"350\" width=\"550\" align=\"left\"/>"
   ]
  },
  {
   "cell_type": "markdown",
   "id": "d0c63e22",
   "metadata": {},
   "source": [
    "<img src=\"https://github.com/lorisliusso/Python-Statistics/blob/master/Regola_empirica_normal_distribution.png?raw=true\" alt=\"350\" width=\"550\" align=\"left\"/>\n"
   ]
  },
  {
   "cell_type": "markdown",
   "id": "b0505ffd",
   "metadata": {},
   "source": [
    "<img src=\"https://github.com/lorisliusso/Python-Statistics/blob/master/standardization.png?raw=true\" alt=\"350\" width=\"550\" align=\"left\"/>"
   ]
  },
  {
   "cell_type": "markdown",
   "id": "65a734f3",
   "metadata": {},
   "source": [
    "<img src=\"https://github.com/lorisliusso/Python-Statistics/blob/master/Normal_distribution_formula.png?raw=true\" alt=\"350\" width=\"550\" align=\"left\"/>"
   ]
  },
  {
   "cell_type": "markdown",
   "id": "b93ddff6",
   "metadata": {},
   "source": [
    "# ESEMPIO 1: EDUCATION 📑"
   ]
  },
  {
   "cell_type": "markdown",
   "id": "d919dd24",
   "metadata": {},
   "source": [
    "<u>In India in una scuola superiore i voti del test di matematica seguono una Distribuzione Normale</u> con **media=100** **e deviazione standard= 15**"
   ]
  },
  {
   "cell_type": "code",
   "execution_count": 14,
   "id": "fe9335fb",
   "metadata": {},
   "outputs": [],
   "source": [
    "import numpy as np\n",
    "import scipy.stats as stats\n",
    "import matplotlib.pyplot as plt\n",
    "%matplotlib inline"
   ]
  },
  {
   "cell_type": "code",
   "execution_count": 15,
   "id": "9fce9f6c",
   "metadata": {},
   "outputs": [
    {
     "data": {
      "image/png": "[encoded data removed]",
      "text/plain": [
       "<Figure size 432x288 with 1 Axes>"
      ]
     },
     "metadata": {
      "needs_background": "light"
     },
     "output_type": "display_data"
    }
   ],
   "source": [
    "#Let's create the Normal Distribution:\n",
    "\n",
    "mean=100\n",
    "sd=15\n",
    "\n",
    "#instanciate normal distributed random variable with mean=100 and sd=15\n",
    "\n",
    "X_rv= stats.norm(loc=mean, scale=sd)\n",
    "\n",
    "#plot Pdf \n",
    "\n",
    "x_values= np.linspace(mean - 4*sd, mean +4*sd) #50 values by default\n",
    "\n",
    "y_values= X_rv.pdf(x_values) #pdf of each x_value\n",
    "\n",
    "plt.plot(x_values, y_values)\n",
    "plt.grid()\n",
    "plt.show()\n"
   ]
  },
  {
   "cell_type": "markdown",
   "id": "08030aad",
   "metadata": {},
   "source": [
    "***Il Ministro dell'Educazione indiano decide che il punteggio minimo che gli studenti devono raggiungere per essere considerati competenti in matematica è di <mark>80 punti.</mark>***\n",
    "\n",
    "<u>Qual'è quindi la % di studenti che riuscirà a raggiungere un punteggio <strong>>=80</strong> ?</u>"
   ]
  },
  {
   "cell_type": "code",
   "execution_count": 23,
   "id": "ddad98fe",
   "metadata": {},
   "outputs": [
    {
     "data": {
      "text/plain": [
       "0.9087887802741321"
      ]
     },
     "execution_count": 23,
     "metadata": {},
     "output_type": "execute_result"
    }
   ],
   "source": [
    "#Let's use the Cdf\n",
    "\n",
    "p_g_80= 1 - X_rv.cdf(80) \n",
    "p_g_80 #circa il 91% verrà considerato competente in matematica"
   ]
  },
  {
   "cell_type": "code",
   "execution_count": 24,
   "id": "478b3635",
   "metadata": {},
   "outputs": [
    {
     "data": {
      "text/plain": [
       "0.010934004978399577"
      ]
     },
     "execution_count": 24,
     "metadata": {},
     "output_type": "execute_result"
    }
   ],
   "source": [
    "X_rv.pdf(80)"
   ]
  },
  {
   "cell_type": "markdown",
   "id": "5a19ded2",
   "metadata": {},
   "source": [
    "***Un'università indiana molto selettiva vuole fissare uno standard molto elevato agli studenti della scuola superiore per poter accedere ai loro corsi.***\n",
    "\n",
    "<u>**L'università ammetterà soltanto gli studenti con un punteggio nel test di matematica facente parte del <mark>2%</mark> dei migliori punteggi della popolazione.**</u>\n",
    "\n",
    "<u>Quale punteggio minimo quindi dovranno ottenere gli studenti per poter entrare all'università?</u>"
   ]
  },
  {
   "cell_type": "code",
   "execution_count": 27,
   "id": "baec6a8d",
   "metadata": {},
   "outputs": [
    {
     "name": "stdout",
     "output_type": "stream",
     "text": [
      "Il punteggio minimo è pari a: 130.80623365947733\n"
     ]
    }
   ],
   "source": [
    "#Dobbiamo usare in questo caso l'inversa della Cdf \n",
    "#per ottenere il punteggio relativo al 2% (punteggi/valori dal 98% al 100% della nostra Distribuzione)\n",
    "\n",
    "proportion_of_admitted= 0.02 #2%\n",
    "\n",
    "#Let's use the inverse of Cdf -> Ppf (Percent point function (inverse of cdf)\n",
    "\n",
    "score= X_rv.ppf(1 - proportion_of_admitted) #100% - cdf fino al 98%\n",
    "\n",
    "print('Il punteggio minimo è pari a:', score)\n"
   ]
  },
  {
   "cell_type": "markdown",
   "id": "4c66790a",
   "metadata": {},
   "source": [
    "# ESEMPIO 2: AZIENDA CONFEZIONI 📦\n",
    "\n",
    "Un'azienda produce delle confezioni alimentari prodotte in modo automatico.\n",
    "\n",
    "<u>Il peso delle confezioni è una variabile aleatoria normale X</u> con **media µ = 250 g** e **deviazione standard σ = 3 g.**\n",
    "\n",
    "<mark>Calcolare la probabilità che una confezione:</mark>\n",
    " \n",
    "<ul>\n",
    "    \n",
    "<li>a: pesi meno di 245 g; </li>\n",
    "\n",
    "<li>b: pesi più di 250 g; </li>\n",
    "\n",
    "<li>c: abbia un peso tra 247 g e 253 g. </li>\n",
    "    \n",
    " </ul>"
   ]
  },
  {
   "cell_type": "code",
   "execution_count": 29,
   "id": "c55a4895",
   "metadata": {},
   "outputs": [],
   "source": [
    "mean=250\n",
    "sd=3\n",
    "\n",
    "#instanciate normal distributed random variable with mean=250 and sd=3\n",
    "\n",
    "X_rv= stats.norm(loc=mean, scale=sd)"
   ]
  },
  {
   "cell_type": "code",
   "execution_count": 34,
   "id": "5a63b27f",
   "metadata": {},
   "outputs": [
    {
     "data": {
      "text/plain": [
       "0.0477903522728147"
      ]
     },
     "execution_count": 34,
     "metadata": {},
     "output_type": "execute_result"
    }
   ],
   "source": [
    "#Let's calculate a:\n",
    "\n",
    "proba_l_245= X_rv.cdf(245) # let's use cdf -> probabilità accumulata da 0 a 245\n",
    "proba_l_245"
   ]
  },
  {
   "cell_type": "code",
   "execution_count": 31,
   "id": "9b645244",
   "metadata": {},
   "outputs": [
    {
     "data": {
      "text/plain": [
       "0.5"
      ]
     },
     "execution_count": 31,
     "metadata": {},
     "output_type": "execute_result"
    }
   ],
   "source": [
    "#Let's calculate b:\n",
    "\n",
    "proba_g_250= 1 - X_rv.cdf(250) #proba accumulata da 250 a +inf\n",
    "proba_g_250"
   ]
  },
  {
   "cell_type": "code",
   "execution_count": 32,
   "id": "77d349cb",
   "metadata": {},
   "outputs": [
    {
     "data": {
      "text/plain": [
       "0.6826894921370859"
      ]
     },
     "execution_count": 32,
     "metadata": {},
     "output_type": "execute_result"
    }
   ],
   "source": [
    "#Let's calculate c:\n",
    "\n",
    "proba_b_247_253= X_rv.cdf(253) - X_rv.cdf(247) #proba tra 247 e 253\n",
    "proba_b_247_253"
   ]
  },
  {
   "cell_type": "markdown",
   "id": "c40a63aa",
   "metadata": {},
   "source": [
    "# ESEMPIO 3: Altezze in NBA 🏀\n",
    "\n",
    "The heights of the 430 National Basketball Association players were listed on team rosters at the start of the 2005–2006 season.\n",
    "\n",
    "<u>The heights of basketball players have an approximate normal distribution</u> with **mean, µ = 79 inches** and a **standard deviation, σ = 3.89 inches**. \n",
    "\n",
    "<mark>For each of the following heights, calculate the z-score and interpret it using complete sentences.</mark>\n",
    "\n",
    "<ul>\n",
    "\n",
    "<li>77 inches</li>\n",
    "\n",
    "<li>85 inches</li>\n",
    "\n",
    "<li><u>If an NBA player reported his height had a z-score of 3.5, would you believe him? Explain your answer.</u></li>\n",
    "    \n",
    "</ul>"
   ]
  },
  {
   "cell_type": "markdown",
   "id": "7143e7eb",
   "metadata": {},
   "source": [
    "<img src=\"https://www.simplypsychology.org/Z-score-formula.jpg\" alt=\"350\" width=\"250\" align=\"left\"/>"
   ]
  },
  {
   "cell_type": "code",
   "execution_count": 37,
   "id": "10b22b6c",
   "metadata": {},
   "outputs": [],
   "source": [
    "mean= 79\n",
    "sd=3.89"
   ]
  },
  {
   "cell_type": "code",
   "execution_count": 38,
   "id": "13a3b893",
   "metadata": {},
   "outputs": [
    {
     "data": {
      "text/plain": [
       "-0.5141388174807198"
      ]
     },
     "execution_count": 38,
     "metadata": {},
     "output_type": "execute_result"
    }
   ],
   "source": [
    "z_score_77= (77-79) / 3.89 # \"quante deviazioni standard è distante dalla media\"\n",
    "z_score_77 "
   ]
  },
  {
   "cell_type": "markdown",
   "id": "16e37e6b",
   "metadata": {},
   "source": [
    "The height of 77 inches is 0.5141 standard deviations below the mean. An NBA player whose height is 77 inches is shorter than average."
   ]
  },
  {
   "cell_type": "code",
   "execution_count": 39,
   "id": "aca28a9e",
   "metadata": {},
   "outputs": [
    {
     "data": {
      "text/plain": [
       "1.5424164524421593"
      ]
     },
     "execution_count": 39,
     "metadata": {},
     "output_type": "execute_result"
    }
   ],
   "source": [
    "z_score_77= (85-79) / 3.89 \n",
    "z_score_77 "
   ]
  },
  {
   "cell_type": "markdown",
   "id": "1810bd06",
   "metadata": {},
   "source": [
    "The height 85 inches is 1.5424 standard deviations above the mean. An NBA player whose height is 85 inches is taller than average."
   ]
  },
  {
   "cell_type": "markdown",
   "id": "7908773b",
   "metadata": {},
   "source": [
    "**\"If an NBA player reported his height had a z-score of 3.5, would you believe him? Explain your answer.\"** 👇"
   ]
  },
  {
   "cell_type": "markdown",
   "id": "44e5bfd3",
   "metadata": {},
   "source": [
    "<img src=\"https://slideplayer.com/slide/4929549/16/images/86/Compute+X+values+from+probabilities.jpg\" alt=\"350\" width=\"450\" align=\"left\"/>"
   ]
  },
  {
   "cell_type": "code",
   "execution_count": 40,
   "id": "684e3b5d",
   "metadata": {},
   "outputs": [
    {
     "data": {
      "text/plain": [
       "92.615"
      ]
     },
     "execution_count": 40,
     "metadata": {},
     "output_type": "execute_result"
    }
   ],
   "source": [
    "height= mean + 3.5*sd #convert from z_score to real value\n",
    "height"
   ]
  },
  {
   "cell_type": "code",
   "execution_count": 44,
   "id": "ee026269",
   "metadata": {},
   "outputs": [
    {
     "name": "stdout",
     "output_type": "stream",
     "text": [
      "Probability of height equal to 92.615 -> 3.5 zscore is : 0.02326290790355401%\n"
     ]
    }
   ],
   "source": [
    "X_rv= stats.norm(loc=mean, scale= sd)\n",
    "\n",
    "proba_g_92= 1 - X_rv.cdf(92.615)\n",
    "\n",
    "print(f'Probability of height equal to 92.615 -> 3.5 zscore is : {proba_g_92*100}%') #quasi nulla, MOLTO IMPROBABILE"
   ]
  },
  {
   "cell_type": "markdown",
   "id": "604a212a",
   "metadata": {},
   "source": [
    "<img src=\"https://media.istockphoto.com/vectors/congratulations-greeting-sign-congrats-graduated-vector-id1148641884?k=20&m=1148641884&s=170667a&w=0&h=UZvEyiD5nxDJiLz5n0i1jdvWn-MR6wt1nomiPV1wSDE=\" alt=\"400\" width=\"500\" align=\"left\"/>"
   ]
  }
 ],
 "metadata": {
  "kernelspec": {
   "display_name": "Python 3 (ipykernel)",
   "language": "python",
   "name": "python3"
  },
  "language_info": {
   "codemirror_mode": {
    "name": "ipython",
    "version": 3
   },
   "file_extension": ".py",
   "mimetype": "text/x-python",
   "name": "python",
   "nbconvert_exporter": "python",
   "pygments_lexer": "ipython3",
   "version": "3.9.7"
  }
 },
 "nbformat": 4,
 "nbformat_minor": 5
}
