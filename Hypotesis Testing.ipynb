{
 "cells": [
  {
   "cell_type": "markdown",
   "id": "0f59f851",
   "metadata": {},
   "source": [
    "# Hypotesis Testing - Test di Ipotesi"
   ]
  },
  {
   "cell_type": "markdown",
   "id": "2a221f02",
   "metadata": {},
   "source": [
    "Come abbiamo visto nel Tutorial precedente, l'inferenza statistica ci permette di stimare con una certa precisione i parametri non conosciuti di una popolazione (es: media), partendo dallo studio di un campione rappresentativo estratto casualmente e valutandone poi la precisione grazie a uno strumento potente ed efficace come gli `intervalli di confidenza`.\n",
    "\n",
    "**Oggi parleremo ancora di stima di parametri di una popolazione ma questa volta la stima del parametro sarà il nostro punto di partenza in quanto saremo già a conoscenza del parametro della popolazione.**\n",
    "\n",
    "**L'obiettivo di questa parte** chiamata `verifica di ipotesi` è quella di fungere da supporto a delle decisioni che devono essere prese in merito alla popolazione sulla base di alcune ipotesi e informazioni relative ad un solo campione. \n",
    "\n",
    "<u>In pratica tutto ha inizio con la formulazione di un'ipotesi riguardante un determinato parametro di una popolazione (es: media), in seguito si provvederà ad estrarre un campione della stessa popolazione per giungere ad una conferma o ad una smentita della bontà dell'ipotesi fatta inizialmente sul parametro della popolazione.</u> (in pratica sulla bontà della stima del parametro della popolazione).\n",
    "\n",
    "<u>`Il Test di Ipotesi` si propone di rilevare statisticamente se il valore ricavato da un campione (es: la media) sia significativamente diverso da quello ipotizzato oppure se la differenza sia dovuta a fattori puramente casuali.</u>\n",
    "\n",
    "***In altre parole questo procedimento mira a stabilire se la differenza tra il valore ipotizzato e valore campionario dipenda dalla scelta del particolare campione estratto o se sia proprio un grossolano errore compiuto in partenza in sede di ipotesi.***"
   ]
  },
  {
   "cell_type": "markdown",
   "id": "8e085d9c",
   "metadata": {},
   "source": [
    "<mark>**Come si costruisce un Test di Ipotesi?**</mark> <ul>\n",
    "\n",
    "\n",
    "<li>Innanzitutto le ipotesi devono essere sempre formulate in modo da poter essere ACCETTATE o RIFIUTATE.</li></ul>\n",
    "\n",
    "**Avremo quindi 2 IPOTESI:**\n",
    "\n",
    "<ul>\n",
    "\n",
    "<li>L'ipotesi NULLA che rappresenta l'ipotesi che vogliamo andare a testare e che si suppone che sia vera fino a prova contraria (la nostra speranza infatti è che essa alla fine risulti vera)</li>\n",
    "\n",
    "<li>L'ipotesi ALTERNATIVA. Infatti ogni ipotesi poi diversa dall'ipotesi nulla di partenza prende il nome di IPOTESI ALTERNATIVA. Essa non necessariamente deve essere un'ipotesi opposta a quella nulla</li>\n",
    "    \n",
    "</ul>\n",
    "\n",
    "**Dopo aver estratto un campione casuale rappresentativo dalla popolazione ed aver calcolato il parametro di interesse, procederemo al confronto tra questo dato e il valore dell'ipotesi nulla di partenza.**\n",
    "\n",
    "\n",
    "Si utilizza quindi la distribuzione della media campionaria che essendo normale viene rappresentata tramite l'usuale forma a campana (distribuzione normale), in cui il valore medio della distribuzione sarà uguale alla media della popolazione (Teorema Limite Centrale) \n",
    "\n",
    "Andremo poi a stabilire Le Regioni di Accettazione e Rifiuto come vedremo tra poco.\n",
    "\n"
   ]
  },
  {
   "cell_type": "markdown",
   "id": "e7b10cd3",
   "metadata": {},
   "source": [
    "<img src=\"https://i.ytimg.com/vi/DlwOTOydeyk/maxresdefault.jpg\" alt=\"350\" width=\"800\" align=\"left\"/>\n",
    "\n",
    "\n"
   ]
  },
  {
   "cell_type": "markdown",
   "id": "144af132",
   "metadata": {},
   "source": [
    "<mark><u>I casi sono quindi 2:</u></mark>\n",
    "\n",
    "<ol>\n",
    "\n",
    "<li>Se il parametro di interesse estratto dal campione (es: media) ricade nella regione di accettazione allora <strong>NON RIFIUTIAMO L'IPOTESI NULLA</strong> perchè la differenza tra il valore campionario e il valore dell'ipotesi nulla non è significativo abbastanza, quindi non abbiamo abbastanza prove che supportino l'ipotesi alternativa. </li>\n",
    "\n",
    "<li> Qualora invece il parametro di interesse estratto dal campione (es: media) cadesse in una delle regioni di rifiuto allora dovremmo concludere che l'ipotesi nulla non è valida perchè il valore estratto dal campione è significativamente diverso da quello dell'ipotesi nulla. In questo caso <strong>RIGETTIAMO/RIFIUTIAMO L'IPOTESI NULLA.</strong> </li>\n",
    "\n",
    "</ol>\n",
    "\n",
    "\n",
    "### POSSIBILI ERRORI: \n",
    "\n",
    "\n",
    "<u>Dal momento che le decisioni prese attraverso la verifica di ipotesi si basano comunque sui risultati ottenuti dallo studio di campioni estratti casualmente , è sempre possibile commettere degli errori!</u>\n",
    "\n",
    "**Nella teoria dell'inferenza statistica sono previsti 2 tipi di errore:**\n",
    "\n",
    "<ul>\n",
    "\n",
    "<li><strong>Errori del Tipo 1:</strong> si verificano rifiutando l'ipotesi nulla quando dovrebbe essere accettata.</li>\n",
    "\n",
    "<li><strong>Errori di Tipo 2:</strong> si verificano accettando l'ipotesi nulla quando andrebbe rifiutata.</li>\n",
    "    \n",
    "</ul>\n",
    "\n",
    "\n",
    "### Alfa o Beta:\n",
    "\n",
    "<u>La probabilità di incorrere in un errore di Tipo 1 è indicata con la lettere α (alfa), mentre la probabilità di incorrere in errori di Tipo 2, viene indicata con la lettera β (beta).</u>\n",
    "\n",
    "**La Decisione sul tipo di errore da minimizzare viene solitamente presa subito prima di estrarre il campione e nella maggior parte dei casi andiamo a minimizzare α. che generalmente prende valori come 5%, 1%. e che chiameremo <u>Livelli di Significatività!</u>**\n",
    "\n",
    "<mark>Porre infatti un livello di significatività α per esempio dello 0,05 vuol dire pensare di avere il 5% di probabilità di incorrere in un errore del Tipo 1.</mark>\n",
    "\n",
    "\n",
    "### COME VERIFICARE QUINDI L'IPOTESI:\n",
    "\n",
    "Per verificare quindi l'ipotesi potremmo andare come visto nel Tutorial precedente a calcolare gli intervalli di confidenza e  a vedere quindi se il parametro del campione estratto cada o meno all'interno della regione di accettazione delimitata dal nostro livello di significatività.\n",
    "\n",
    "<u>Nel caso ricada all'interno della zona di accettazione allora NON RIFIUTIAMO L'IPOTESI NULLA, altrimenti nel caso ricada all'esterno della zona di accettazione allora andremmo a RIFIUTARE L'IPOTESI NULLA.</u>\n",
    "\n",
    "### P-VALUE:\n",
    "\n",
    "\n",
    "**IL VALORE PERÒ CHE PIÙ SPESSO VIENE UTILIZZATO IN FASE DI VERIFICA DI IPOTESI È IL `P-VALUE` che è la probabilità stimata di estrarre quel determinato campione (e quindi ottenere quel determinato parametro) per pura casualità/per caso (dalla popolazione con cui lo stiamo confrontando):**\n",
    "\n",
    "<mark>Confronto P-value con Livello di Significatività:</mark>\n",
    "\n",
    "<u>Compariamo poi questo valore al nostro livello di significatività (ad esempio 5% cioè 0.05).</u>\n",
    "\n",
    "\n",
    "<ul>\n",
    "    \n",
    "<li><strong>Se il p-value ottenuto è più piccolo del nostro livello di significatività (es: 0.05, p_value < 0.05) allora RIFIUTIAMO L'IPOTESI NULLA</strong></li>\n",
    "\n",
    "<li><strong>Invece se risulterà più grande (es: 0.05, p_value > 0.05) NON RIFIUTEREMO L'IPOTESI NULLA perchè non abbiamo abbastanza evidenza che l'ipotesi alternativa sia vera.</strong></li>\n",
    "    \n",
    " </ul>\n",
    "\n"
   ]
  },
  {
   "cell_type": "markdown",
   "id": "70168e8e",
   "metadata": {},
   "source": [
    "# `T-TEST:`\n",
    "\n",
    "`Per quanto riguarda il Tutorial di oggi andremo a vedere uno dei Test di Ipotesi più famoso: Il T-TEST.`\n",
    "    \n",
    "**Il T-Test è uno dei Test di Ipotesi più famoso ed utilizzato in campo statistico che ci permette di fare un confronto dei valori fra due\n",
    "gruppi.**\n",
    "\n",
    "<u>Esso fa parte dei test parametrici cioè\n",
    "basati su media e deviazione standard.</u>\n",
    "\n",
    "Utilizzato perciò nel caso di variabili distribuite normalmente.\n",
    "\n",
    " <mark>**Esistono 3 Tipologie di T-test che possiamo andare ad effettuare grazie anche alla libreria Scipy:**</mark>\n"
   ]
  },
  {
   "cell_type": "markdown",
   "id": "d151e550",
   "metadata": {},
   "source": [
    "### **1)`One Sample T-Test`**\n",
    "\n",
    "Attraverso la funzione scipy **`ttest_1samp`** possiamo andare a calcolare il P-value per confrontare la media campionaria (un campione casuale di una popolazione) con il valore specifico di ipotesi (media ipotizzata o nota della popolazione).\n",
    "\n",
    "**Esempio:** Abbiamo una linea di produzione di palline da tennis e il diametro medio delle palline deve essere di 5 cm. Vogliamo quindi andare a verificare attraverso un campione casuale (es. di 50 palline) prelevato dalla linea di produzione se il diametro medio del campione differisce in modo significativo dal diametro medio della popolazione. \n",
    "\n",
    "\n",
    "***IPOTESI NULLA:***\n",
    "\n",
    "H0: μ = μ0 (population mean is equal to some hypothesized value μ0)\n",
    "\n",
    "\n",
    "\n",
    "***IPOTESI ALTERNATIVA/E:***\n",
    "\n",
    "The alternative hypothesis can be either two-tailed, left-tailed, or right-tailed:\n",
    "\n",
    "<ul>\n",
    "\n",
    "<li>H1 (two-tailed): μ ≠ μ0 (population mean is not equal to some hypothesized value μ0)</li>\n",
    "<li>H1 (left-tailed): μ < μ0 (population mean is less than some hypothesized value μ0)</li>\n",
    "<li>H1 (right-tailed): μ > μ0 (population mean is greater than some hypothesized value μ0)</li>\n",
    "    \n",
    "<ul>"
   ]
  },
  {
   "cell_type": "markdown",
   "id": "ca4a99a2",
   "metadata": {},
   "source": [
    "### **2)`Two-Sample T-Test`**\n",
    "\n",
    "Attraverso la funzione scipy **`ttest_ind`** possiamo andare a calcolare il P-value e confrontare le medie di due gruppi/dataset INDIPENDENTI, determinando se sono uguali o significativamente differenti. \n",
    "\n",
    "\n",
    "**Esempio:** Confrontiamo 2 Aziende di Delivery. Vogliamo confrontare il loro Tempo Medio di delivery e capire se esiste una differenza significativa tra i tempi medi delle 2 aziende. (i Dataset in questione saranno infatti indipendenti)\n",
    "\n",
    "\n",
    "***IPOTESI NULLA:***\n",
    "\n",
    "H0: μ1 = μ2 (the two population means are equal)\n",
    "\n",
    "\n",
    "***IPOTESI ALTERNATIVA:***\n",
    "\n",
    "The alternative hypothesis can be either two-tailed, left-tailed, or right-tailed:\n",
    "\n",
    "<ul>\n",
    "<li>H1 (two-tailed): μ1 ≠ μ2 (the two population means are not equal)</li>\n",
    "<li>H1 (left-tailed): μ1 < μ2 (population 1 mean is less than population 2 mean)</li>\n",
    "<li>H1 (right-tailed): μ1> μ2 (population 1 mean is greater than population 2 mean)</li>\n",
    "    \n",
    "</ul>"
   ]
  },
  {
   "cell_type": "markdown",
   "id": "6cea7b4a",
   "metadata": {},
   "source": [
    "### **3)`Paired T-Test`**\n",
    "\n",
    "Attraverso la funzione scipy **`ttest_rel`** possiamo andare a calcolare il P-value e confrontare le medie di 2 campioni DIPENDENTI (cioè dello stesso soggetto). Solitamente i 2 valori sono separati da un intervallo temporale.\n",
    "\n",
    "**Esempio:** Il rilevamento della pressione sanguigna di un individuo prima e dopo un trattamento.\n",
    "\n",
    "**Esempio 2**: Il salto verticale massimo dei giocatori di basket di una certa squadra viene misurato prima e dopo aver partecipato a un programma di allenamento.\n",
    "\n",
    "***IPOTESI NULLA:***\n",
    "\n",
    "H0: μ1 = μ2 (the two population means are equal) #ipotesi nulla\n",
    "\n",
    "***IPOTESI ALTERNATIVA/E:***\n",
    "\n",
    "The alternative hypothesis can be either two-tailed, left-tailed, or right-tailed:\n",
    "\n",
    "<ul>\n",
    "\n",
    "<li>H1 (two-tailed): μ1 ≠ μ2 (the two population means are not equal)</li>\n",
    "<li>H1 (left-tailed): μ1 < μ2 (population 1 mean is less than population 2 mean)</li>\n",
    "<li>H1 (right-tailed): μ1> μ2 (population 1 mean is greater than population 2 mean)</li>\n",
    "    \n",
    "</ul>"
   ]
  },
  {
   "cell_type": "markdown",
   "id": "8a509457",
   "metadata": {},
   "source": [
    "# PRATICA CON CASI REALI: 📊"
   ]
  },
  {
   "cell_type": "markdown",
   "id": "f9a4d9e0",
   "metadata": {},
   "source": [
    "## 1) One Sample T-Test\n",
    "\n",
    "Ci vengono forniti i dati di produzione di patate da 12 diverse fattorie. 🥔\n",
    "\n",
    "x = [21.5, 24.5, 18.5, 17.2, 14.5, 23.2, 22.1, 20.5, 19.4, 18.1, 24.1, 18.5]\n",
    "\n",
    "Sappiamo che la resa standard di patate per una data varietà è **µ=20.**\n",
    "\n",
    "<u>Verifica se la resa media di patate di queste fattorie è significativamente migliore della resa standard.</u>\n",
    "\n",
    "***IPOTESI NULLA:***\n",
    "\n",
    "H0: x̅ = 20 (resa media delle patate delle fattorie è uguale a 20 cioè alla standard.)\n",
    "\n",
    "***IPOTESI ALTERNATIVA:***\n",
    "\n",
    "H1: x̅ > 20 (resa media delle patate delle fattorie è migliore di 20 cioè migliore della standard.)\n",
    "\n",
    "<u>Utilizziamo un livello di significatività del 5% (0.05)</u>"
   ]
  },
  {
   "cell_type": "code",
   "execution_count": 5,
   "id": "fe274cfb",
   "metadata": {},
   "outputs": [],
   "source": [
    "import scipy.stats as stats\n",
    "import numpy as np\n",
    "import matplotlib.pyplot as plt\n",
    "%matplotlib inline"
   ]
  },
  {
   "cell_type": "code",
   "execution_count": 6,
   "id": "184881d3",
   "metadata": {},
   "outputs": [
    {
     "name": "stdout",
     "output_type": "stream",
     "text": [
      "0.4223145946526807\n",
      "Non rifiutiamo L'Ipotesi Nulla'\n"
     ]
    }
   ],
   "source": [
    "# scipy.stats.ttest_1samp(a, popmean, axis=0, nan_policy='propagate', alternative='two-sided') #DEFAULT PARAMETERS\n",
    "\n",
    "#a : sample array\n",
    "\n",
    "#popmean: population mean\n",
    "\n",
    "#alternative: {‘two-sided’, ‘less’, ‘greater’}\n",
    "\n",
    "#less: sample_mean < pop_mean\n",
    "    \n",
    "#greater: sample_mean > pop_mean\n",
    "\n",
    "#α è pari al 5% di default\n",
    "\n",
    "mean= 20\n",
    "\n",
    "sample = np.array([21.5, 24.5, 18.5, 17.2, 14.5, 23.2, 22.1, 20.5, 19.4, 18.1, 24.1, 18.5])\n",
    " \n",
    "p_value= stats.ttest_1samp(a=sample, popmean=mean, alternative='greater')[1]\n",
    "\n",
    "print(p_value)\n",
    "\n",
    "if p_value<0.05:\n",
    "    \n",
    "    print(\"Rifiutiamo L'Ipotesi Nulla'\")\n",
    "    \n",
    "else:\n",
    "    print(\"Non rifiutiamo L'Ipotesi Nulla'\")\n",
    "    "
   ]
  },
  {
   "cell_type": "code",
   "execution_count": 7,
   "id": "904505ec",
   "metadata": {},
   "outputs": [
    {
     "name": "stdout",
     "output_type": "stream",
     "text": [
      "P-value: 0.4204836749384998\n"
     ]
    }
   ],
   "source": [
    "#Calculate p-value using Cdf()\n",
    "\n",
    "X_rv= stats.norm(loc=20, scale=(sample.std(ddof=1) / np.sqrt(len(sample)) ) ) #instantiate normal distribution\n",
    "p_value= 1 - X_rv.cdf(sample.mean()) #calculate proba above sample mean value\n",
    "print('P-value:', p_value)"
   ]
  },
  {
   "cell_type": "markdown",
   "id": "e8da033c",
   "metadata": {},
   "source": [
    "## 2) Two-Sample T-Test"
   ]
  },
  {
   "cell_type": "markdown",
   "id": "41ea7937",
   "metadata": {},
   "source": [
    "Ci vengono forniti i seguenti 2 Dataset relativi a tempi di Delivery di 2 pizzerie di Milano. 🍕\n",
    "\n",
    "<u>Vogliamo capire se il tempo medio di delivery tra le 2 pizzerie differisce significativamente.</u>\n",
    "\n",
    "***IPOTESI NULLA:***\n",
    "\n",
    "H0 => µ1 = µ2 (tempo medio Pizzeria 1 = tempo medio Pizzeria 2)\n",
    "\n",
    "***IPOTESI ALTERNATIVA:***\n",
    "\n",
    "H1 => µ1 ≠µ2 (tempo medio Pizzeria 1 != tempo medio Pizzeria 2)\n",
    "\n",
    "<u>Utilizziamo un livello di significatività del 5% (0.05)</u>"
   ]
  },
  {
   "cell_type": "code",
   "execution_count": 9,
   "id": "dca9db0e",
   "metadata": {},
   "outputs": [
    {
     "name": "stdout",
     "output_type": "stream",
     "text": [
      "Media Pizzeria_1: 15.15\n",
      "Media Pizzeria_2: 15.8\n"
     ]
    }
   ],
   "source": [
    "pizzeria_1 = np.array([14, 15, 15, 16, 13, 8, 14,\n",
    "                        17, 16, 14, 19, 20, 21, 15,\n",
    "                        15, 16, 16, 13, 14, 12])\n",
    " \n",
    "pizzeria_2 = np.array([15, 17, 14, 17, 14, 8, 12,\n",
    "                        19, 19, 14, 17, 22, 24, 16,\n",
    "                        13, 16, 13, 18, 15, 13])\n",
    "\n",
    " \n",
    "print('Media Pizzeria_1:', pizzeria_1.mean())\n",
    "\n",
    "print('Media Pizzeria_2:', pizzeria_2.mean())"
   ]
  },
  {
   "cell_type": "code",
   "execution_count": 10,
   "id": "5ecf07ca",
   "metadata": {},
   "outputs": [
    {
     "name": "stdout",
     "output_type": "stream",
     "text": [
      "0.2267775684595108\n",
      "0.6782065033912659\n"
     ]
    }
   ],
   "source": [
    "#Check Distribuzione Normale dei nostri dati (essendo <30, no Teorema Limite Centrale)\n",
    "\n",
    "\n",
    "#Perform the Shapiro-Wilk test for normality.\n",
    "\n",
    "#The Shapiro-Wilk test tests the null hypothesis that the data was drawn from a normal distribution.\n",
    "\n",
    "#The null hypothesis for this test is that the data are normally distributed.\n",
    "\n",
    "# Se (p>0.05)= Distribuzione normale\n",
    "\n",
    "print(stats.shapiro(pizzeria_1)[1]) \n",
    "print(stats.shapiro(pizzeria_2)[1])"
   ]
  },
  {
   "cell_type": "code",
   "execution_count": 11,
   "id": "22594936",
   "metadata": {},
   "outputs": [
    {
     "name": "stdout",
     "output_type": "stream",
     "text": [
      "Varianza Pizzeria_1: 7.727500000000001\n",
      "Varianza Pizzeria_2: 12.260000000000002\n"
     ]
    }
   ],
   "source": [
    "#Check Varianza:\n",
    "\n",
    "print('Varianza Pizzeria_1:', np.var(pizzeria_1))\n",
    "\n",
    "print('Varianza Pizzeria_2:', np.var(pizzeria_2))"
   ]
  },
  {
   "cell_type": "code",
   "execution_count": 12,
   "id": "85df65e1",
   "metadata": {},
   "outputs": [
    {
     "name": "stdout",
     "output_type": "stream",
     "text": [
      "0.5302413334606599\n",
      "Non rifiutiamo L'Ipotesi Nulla'\n"
     ]
    }
   ],
   "source": [
    "#Calculate p-value:\n",
    "\n",
    "p_value= stats.ttest_ind(a=pizzeria_1, b=pizzeria_2, equal_var=False)[1] #varianze diverse -> equal_var=False | #alternative=two-sided' by default\n",
    "\n",
    "print(p_value)\n",
    "\n",
    "if p_value<0.05:\n",
    "    \n",
    "    print(\"Rifiutiamo L'Ipotesi Nulla'\")\n",
    "    \n",
    "else:\n",
    "    print(\"Non rifiutiamo L'Ipotesi Nulla'\")"
   ]
  },
  {
   "cell_type": "markdown",
   "id": "e043cdb4",
   "metadata": {},
   "source": [
    "## 3) Paired T-Test\n",
    "\n",
    "In una scuola superiore l'insegnante di matematica dopo aver visto che la maggior parte degli studenti ha preso dei voti negativi nell'ultimo test, decide quindi di dedicare una settimana di lezioni per rispiegare gli argomenti del test. 📚\n",
    "\n",
    "**Al termine della settimana propone di nuovo il test agli studenti e la media dei voti questa volta sembra nettamente migliore della precedente.**\n",
    "\n",
    "<u>Andiamo quindi a verificare se dopo il nuovo insegnamento i voti degli studenti sono significativamente cambiati rispetto ai precedenti.</u>\n",
    "\n",
    "***IPOTESI NULLA:***\n",
    "\n",
    "H0 : (x̄1= x̄2) (non è presente una significativa differenza tra i voti del primo e del secondo test)\n",
    "\n",
    "***IPOTESI ALTERNATIVA***\n",
    "\n",
    "H1 : (x̄1!= x̄2)(è presente una significativa differenza tra i voti del primo e del secondo test)\n",
    "\n",
    "<u>Utilizziamo sempre un livello di significatività del 5% (0.05)</u>"
   ]
  },
  {
   "cell_type": "code",
   "execution_count": 30,
   "id": "f5664932",
   "metadata": {},
   "outputs": [],
   "source": [
    "before = np.array([5, 5, 7, 9, 4, 3, 4, 6, 6, 7, 5]) #voti della prima prova\n",
    "after= np.array([8, 8, 7, 10, 6, 5, 6, 7, 7, 8, 7]) #voti della seconda prova"
   ]
  },
  {
   "cell_type": "code",
   "execution_count": 32,
   "id": "f04c921d",
   "metadata": {},
   "outputs": [
    {
     "data": {
      "image/png": "[encoded data removed]",
      "text/plain": [
       "<Figure size 1008x360 with 2 Axes>"
      ]
     },
     "metadata": {
      "needs_background": "light"
     },
     "output_type": "display_data"
    }
   ],
   "source": [
    "plt.figure(figsize=(14,5))\n",
    "\n",
    "#Subplots:\n",
    "\n",
    "plt.subplot(1, 2, 1) #n rows, n columns, id subplot\n",
    "plt.title('Before')\n",
    "plt.hist(before)\n",
    "\n",
    "plt.subplot(1, 2, 2)\n",
    "plt.hist(after, color='orange')\n",
    "plt.title('After')\n",
    "\n",
    "plt.show()"
   ]
  },
  {
   "cell_type": "code",
   "execution_count": 34,
   "id": "04b5e356",
   "metadata": {},
   "outputs": [
    {
     "name": "stdout",
     "output_type": "stream",
     "text": [
      "DescribeResult(nobs=11, minmax=(3, 9), mean=5.545454545454546, variance=2.8727272727272726, skewness=0.4998808268671314, kurtosis=-0.26602307322544405)\n"
     ]
    }
   ],
   "source": [
    "#Before Main Statistics\n",
    "\n",
    "print(stats.describe(before))"
   ]
  },
  {
   "cell_type": "code",
   "execution_count": 35,
   "id": "8f00ba62",
   "metadata": {},
   "outputs": [
    {
     "name": "stdout",
     "output_type": "stream",
     "text": [
      "5.0\n",
      "ModeResult(mode=array([5]), count=array([3]))\n"
     ]
    }
   ],
   "source": [
    "print(np.median(before))\n",
    "print(stats.mode(before))"
   ]
  },
  {
   "cell_type": "code",
   "execution_count": 36,
   "id": "aef6729f",
   "metadata": {},
   "outputs": [
    {
     "name": "stdout",
     "output_type": "stream",
     "text": [
      "DescribeResult(nobs=11, minmax=(5, 10), mean=7.181818181818182, variance=1.7636363636363632, skewness=0.4618617432757414, kurtosis=0.21782336061218155)\n"
     ]
    }
   ],
   "source": [
    "#After Main Statistics:\n",
    "\n",
    "print(stats.describe(after))"
   ]
  },
  {
   "cell_type": "code",
   "execution_count": 37,
   "id": "59845b24",
   "metadata": {},
   "outputs": [
    {
     "name": "stdout",
     "output_type": "stream",
     "text": [
      "7.0\n",
      "ModeResult(mode=array([7]), count=array([4]))\n"
     ]
    }
   ],
   "source": [
    "print(np.median(after))\n",
    "print(stats.mode(after))"
   ]
  },
  {
   "cell_type": "code",
   "execution_count": 38,
   "id": "a5306f1b",
   "metadata": {},
   "outputs": [
    {
     "name": "stdout",
     "output_type": "stream",
     "text": [
      "0.745197057723999\n",
      "0.4518272280693054\n"
     ]
    }
   ],
   "source": [
    "#Perform the Shapiro-Wilk test for normality.\n",
    "\n",
    "print(stats.shapiro(before)[1]) \n",
    "print(stats.shapiro(after)[1])"
   ]
  },
  {
   "cell_type": "code",
   "execution_count": 39,
   "id": "fe08dda0",
   "metadata": {},
   "outputs": [
    {
     "name": "stdout",
     "output_type": "stream",
     "text": [
      "0.00015709381025735461\n",
      "Rifiutiamo L'Ipotesi Nulla'\n"
     ]
    }
   ],
   "source": [
    "#Calculate p-value:\n",
    "\n",
    "p_value= stats.ttest_rel(before, after)[1] #alternative=two-sided' by default\n",
    "\n",
    "print(p_value)\n",
    "\n",
    "if p_value<0.05:\n",
    "    \n",
    "    print(\"Rifiutiamo L'Ipotesi Nulla'\")\n",
    "    \n",
    "else:\n",
    "    \n",
    "    print(\"Non rifiutiamo L'Ipotesi Nulla'\")"
   ]
  },
  {
   "cell_type": "markdown",
   "id": "d3b9bf36",
   "metadata": {},
   "source": [
    "<img src=\"https://media.istockphoto.com/vectors/congratulations-greeting-sign-congrats-graduated-vector-id1148641884?k=20&m=1148641884&s=170667a&w=0&h=UZvEyiD5nxDJiLz5n0i1jdvWn-MR6wt1nomiPV1wSDE=\" alt=\"400\" width=\"500\" align=\"left\"/>"
   ]
  }
 ],
 "metadata": {
  "kernelspec": {
   "display_name": "Python 3 (ipykernel)",
   "language": "python",
   "name": "python3"
  },
  "language_info": {
   "codemirror_mode": {
    "name": "ipython",
    "version": 3
   },
   "file_extension": ".py",
   "mimetype": "text/x-python",
   "name": "python",
   "nbconvert_exporter": "python",
   "pygments_lexer": "ipython3",
   "version": "3.9.7"
  }
 },
 "nbformat": 4,
 "nbformat_minor": 5
}
