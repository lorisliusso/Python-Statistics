{
 "cells": [
  {
   "cell_type": "markdown",
   "id": "f04bcdd4",
   "metadata": {},
   "source": [
    "# CONFIDENCE INTERVALS - INTERVALLI DI CONFIDENZA"
   ]
  },
  {
   "cell_type": "markdown",
   "id": "9b85a601",
   "metadata": {},
   "source": [
    "**Dopo aver visto il Teorema del Limite Centrale e la sua importanza**, in quanto ci dice che la distribuzione della media campionaria è normale a patto che l'ampiezza del campione sia sufficientemente grande (>= 30) e questo avviene indipendentemente dalla distribuzione della popolazione,\n",
    "\n",
    "**Quello che vogliamo fare adesso è costruire degli intervalli di confidenza che ci consentano di stabilire con quanta sicurezza possiamo affermare che il parametro della popolazione che vogliamo valutare (per esempio la media della popolazione) ricada proprio all'interno di questi intervalli.**\n",
    "\n",
    "<u>Solitamente l'intervallo di confidenza più utilizzato è quello del 95%.</u>\n",
    "\n",
    "<mark><u>**Per calcolare i limiti dell'intervallo servono 4 valori:**</u></mark>\n",
    "\n",
    "<ul>\n",
    "    \n",
    "<li>La media del campione </li>\n",
    "\n",
    "<li>L'ampiezza del campione</li>\n",
    "\n",
    "<li>La deviazione standard della popolazione</li>\n",
    "\n",
    "<li>Il coefficiente di confidenza</li>\n",
    "    \n",
    "</ul>\n",
    "\n",
    "<u>Le formule che calcolano i valori del limite inferiore e superiore degli intervalli di confidenza sono le seguenti:</u>"
   ]
  },
  {
   "cell_type": "markdown",
   "id": "109b7f40",
   "metadata": {},
   "source": [
    "<img src=\"https://cdn.educba.com/academy/wp-content/uploads/2019/12/Confidence-Interval-Formula.jpg\" alt=\"350\" width=\"450\" align=\"left\"/>\n",
    "\n"
   ]
  },
  {
   "cell_type": "markdown",
   "id": "01ff79b5",
   "metadata": {},
   "source": [
    "***Praticamente i limiti (i valori) dell'intervallo di confidenza vengono calcolati facendo la media X più o meno il coefficiente di confidenza Z che moltiplica l'errore standard del campione.***"
   ]
  },
  {
   "cell_type": "markdown",
   "id": "7ed51843",
   "metadata": {},
   "source": [
    "<img src=\"https://www.six-sigma-material.com/images/CommonCLZvalues.png\" alt=\"350\" width=\"300\" align=\"left\"/>"
   ]
  },
  {
   "cell_type": "markdown",
   "id": "621f2598",
   "metadata": {},
   "source": [
    "<img src=\"https://analystprep.com/cfa-level-1-exam/wp-content/uploads/2019/10/page-159.jpg\" alt=\"350\" width=\"700\" align=\"left\"/>\n",
    "\n",
    "\n",
    " "
   ]
  },
  {
   "cell_type": "markdown",
   "id": "6576235a",
   "metadata": {},
   "source": [
    "<img src=\"https://miro.medium.com/max/1400/1*OTQHk3rsuzwdidO9zgSOfA.png\" alt=\"350\" width=\"550\" align=\"left\"/>"
   ]
  },
  {
   "cell_type": "code",
   "execution_count": 3,
   "id": "6130f263",
   "metadata": {},
   "outputs": [],
   "source": [
    "import numpy as np\n",
    "import matplotlib.pyplot as plt\n",
    "%matplotlib inline"
   ]
  },
  {
   "cell_type": "code",
   "execution_count": 4,
   "id": "127b24fe",
   "metadata": {},
   "outputs": [],
   "source": [
    "#Let'use Scipy\n",
    "\n",
    "import scipy.stats as stats"
   ]
  },
  {
   "cell_type": "markdown",
   "id": "6dfe7763",
   "metadata": {},
   "source": [
    "# ESEMPIO 1: AFFITTO APPARTAMENTO A BOSTON\n",
    "    \n",
    "<u>You want to rent an unfurnished one-bedroom apartment in Boston\n",
    "next year.</u> \n",
    "\n",
    "The mean monthly rent for a random sample of **60** apartments\n",
    "advertised on Airbnb is **$1000.**\n",
    "\n",
    "Assume a population standard deviation of **$200**. Construct a **95%**\n",
    "confidence interval.    "
   ]
  },
  {
   "cell_type": "code",
   "execution_count": 13,
   "id": "5bd96c83",
   "metadata": {},
   "outputs": [
    {
     "data": {
      "text/plain": [
       "(949.3939475247336, 1050.6060524752663)"
      ]
     },
     "execution_count": 13,
     "metadata": {},
     "output_type": "execute_result"
    }
   ],
   "source": [
    "sample_mean= 1000 #media del campione\n",
    "sample_size=60 #grandezza del campione (>=30)\n",
    "sd=200 #deviazione standard della popolazione\n",
    "confidence_value= 0.95 #95%\n",
    "\n",
    "#Let's calculate the confidence interval:\n",
    "\n",
    "confidence_interval= stats.norm.interval(alpha=0.95, loc=sample_mean, scale=(sd/np.sqrt(sample_size)))\n",
    "confidence_interval"
   ]
  },
  {
   "cell_type": "markdown",
   "id": "d25a5d23",
   "metadata": {},
   "source": [
    "<mark>We are 95% confident that the interval (949.39, 1050.61)\n",
    "covers the true mean monthly rent of Boston apartments listed on\n",
    "Airbnb.</mark>"
   ]
  },
  {
   "cell_type": "code",
   "execution_count": 12,
   "id": "923bce93",
   "metadata": {},
   "outputs": [
    {
     "data": {
      "text/plain": [
       "(949.3930176095564, 1050.6069823904436)"
      ]
     },
     "execution_count": 12,
     "metadata": {},
     "output_type": "execute_result"
    }
   ],
   "source": [
    "#Manually:\n",
    "\n",
    "confidence_interval= ( (1000 - 1.96*(200/np.sqrt(60))), (1000 + 1.96*(200/np.sqrt(60))) ) \n",
    "confidence_interval"
   ]
  },
  {
   "cell_type": "markdown",
   "id": "f096f4d4",
   "metadata": {},
   "source": [
    "# ESEMPIO 2: Acquisti online\n",
    "(Tratto dal Libro 'Finalmente ho capito la Statistica')\n",
    "\n",
    "<u>Supponiamo di voler stimare la spesa media dei singoli ordini di acquisto effettuati dagli utenti sul nostro sito partendo da un campione.</u>\n",
    "\n",
    "Sappiamo che la deviazione standard della popolazione è pari a **52.50€**\n",
    "\n",
    "Dopo aver estratto un campione casuale di **900** utenti otteniamo che la spesa media del campione è di **114.75€**.\n",
    "\n",
    "Decidiamo di scegliere un un livello di confidenza pari al **95%**."
   ]
  },
  {
   "cell_type": "code",
   "execution_count": 14,
   "id": "c2efe3e6",
   "metadata": {},
   "outputs": [
    {
     "data": {
      "text/plain": [
       "(111.3200630270549, 118.1799369729451)"
      ]
     },
     "execution_count": 14,
     "metadata": {},
     "output_type": "execute_result"
    }
   ],
   "source": [
    "sample_mean= 114.75 #media del campione\n",
    "sample_size=900 #grandezza del campione (>30)\n",
    "sd=52.50 #deviazione standard della popolazione\n",
    "confidence_value= 0.95 #95%\n",
    "\n",
    "#Let's calculate the confidence interval:\n",
    "\n",
    "confidence_interval= stats.norm.interval(alpha=0.95, loc=sample_mean, scale=(sd/np.sqrt(sample_size)))\n",
    "confidence_interval #111.32 (limite inferiore) 118.18 (limite superiore)"
   ]
  },
  {
   "cell_type": "markdown",
   "id": "a89a676b",
   "metadata": {},
   "source": [
    "<mark>Esiste quindi il 95% di probabilità che ogni intervallo di confidenza calcolato su un campione estratto dalla stessa popolazione contenga l'effettiva media della popolazione.</mark>"
   ]
  },
  {
   "cell_type": "markdown",
   "id": "21ff200f",
   "metadata": {},
   "source": [
    "### Andiamo a capire cosa vuol dire che siamo confidenti nel dire che il 95% delle volte l'intervallo di confidenza calcolato conterrà l'effettiva media della popolazione:"
   ]
  },
  {
   "cell_type": "code",
   "execution_count": 44,
   "id": "ae5a040a",
   "metadata": {},
   "outputs": [
    {
     "name": "stdout",
     "output_type": "stream",
     "text": [
      "Media della popolazione:  5.0267\n",
      "Deviazione Standard della popolazione:  3.1694774190708475\n"
     ]
    }
   ],
   "source": [
    "#Vediamolo con un esempio:\n",
    "\n",
    "np.random.seed(123456)\n",
    "\n",
    "#Estraiamo in modo casuale 10000 numeri dal range [0,10]\n",
    "popolazione= np.random.randint(0, 10+1,10000)\n",
    "\n",
    "#Calcoliamo media e deviazione standard:\n",
    "\n",
    "mean= popolazione.mean()\n",
    "sd= popolazione.std()\n",
    "\n",
    "print('Media della popolazione: ', mean)\n",
    "print('Deviazione Standard della popolazione: ', sd)"
   ]
  },
  {
   "cell_type": "code",
   "execution_count": 45,
   "id": "c2c4c468",
   "metadata": {},
   "outputs": [],
   "source": [
    "np.random.seed(123456)\n",
    "\n",
    "#Scegliamo 100 numeri casuali dalla nostra popolazione:\n",
    "\n",
    "sample_size=100\n",
    "\n",
    "sample= np.random.choice(a=popolazione, size=sample_size)"
   ]
  },
  {
   "cell_type": "code",
   "execution_count": 46,
   "id": "c2ce9c80",
   "metadata": {},
   "outputs": [
    {
     "data": {
      "text/plain": [
       "5.34"
      ]
     },
     "execution_count": 46,
     "metadata": {},
     "output_type": "execute_result"
    }
   ],
   "source": [
    "#Andiamo a calcolare la media del campione estratto:\n",
    "\n",
    "sample_mean= sample.mean()\n",
    "sample_mean"
   ]
  },
  {
   "cell_type": "code",
   "execution_count": 47,
   "id": "22855681",
   "metadata": {},
   "outputs": [
    {
     "data": {
      "text/plain": [
       "3.178741889490243"
      ]
     },
     "execution_count": 47,
     "metadata": {},
     "output_type": "execute_result"
    }
   ],
   "source": [
    "#Calcoliamo anche la deviazione standard:\n",
    "\n",
    "sample_sd= sample.std()\n",
    "sample_sd"
   ]
  },
  {
   "cell_type": "code",
   "execution_count": 48,
   "id": "29d8f9a5",
   "metadata": {},
   "outputs": [
    {
     "data": {
      "text/plain": [
       "(4.718793840880817, 5.9612061591191825)"
      ]
     },
     "execution_count": 48,
     "metadata": {},
     "output_type": "execute_result"
    }
   ],
   "source": [
    "#Calcoliamo l'intervallo di confidenza:\n",
    "\n",
    "confidence_interval= stats.norm.interval(alpha=0.95, loc=sample_mean, scale=(sd/np.sqrt(sample_size)))\n",
    "confidence_interval"
   ]
  },
  {
   "cell_type": "code",
   "execution_count": 40,
   "id": "3cf074ad",
   "metadata": {},
   "outputs": [],
   "source": [
    "#Creiamo la funzione MakeConfidenceInterval:\n",
    "\n",
    "def MakeConfidenceInterval():\n",
    "    \n",
    "    sample_size=100\n",
    "    sample= np.random.choice(a=popolazione, size= sample_size)\n",
    "    sample_mean= sample.mean()\n",
    "    sample_sd= sample.std()\n",
    "    confidence_interval= stats.norm.interval(alpha=0.95, loc=sample_mean, scale=(sd/np.sqrt(sample_size)))\n",
    "    \n",
    "    return confidence_interval\n"
   ]
  },
  {
   "cell_type": "code",
   "execution_count": 43,
   "id": "4d64c3aa",
   "metadata": {},
   "outputs": [
    {
     "name": "stdout",
     "output_type": "stream",
     "text": [
      "0.9551\n"
     ]
    }
   ],
   "source": [
    "#Andiamo a verificare che effettivamente il 95% delle volte l'intervallo di confidenza \n",
    "#contiene l'effettiva media della popolazione:\n",
    "\n",
    "times_in_interval=0\n",
    "\n",
    "for i in range(10000):\n",
    "    interval= MakeConfidenceInterval()\n",
    "    if 5.0267 >= interval[0] and 5.0267 <= interval[1]:\n",
    "        times_in_interval+=1\n",
    "        \n",
    "print(times_in_interval /10000)"
   ]
  },
  {
   "cell_type": "markdown",
   "id": "b939a17e",
   "metadata": {},
   "source": [
    "<mark>**Abbiamo verificato che esattamente il 95% delle volte l'intervallo di confidenza contiene effettivamente la reale media della popolazione!**</mark>\n",
    "\n",
    "**N.B:** <u>**Negli esempi proposti abbiamo sempre avuto già a disposizione la deviazione standard della popolazione di partenza ma chiaramente la maggior parte delle volte non ne saremo a conoscenza anche perchè altrimenti molto probabilmente conosceremmo già anche la media della popolazione stessa.**</u>\n",
    "\n",
    "<mark>**In questo caso dobbiamo utilizzare la deviazione standard del campione e mantenere lo stesso procediamento visto (anche se chiaramente ci possiamo aspettare delle stime meno precise)**</mark>"
   ]
  },
  {
   "cell_type": "markdown",
   "id": "f35797f5",
   "metadata": {},
   "source": [
    "<img src=\"https://media.istockphoto.com/vectors/congratulations-greeting-sign-congrats-graduated-vector-id1148641884?k=20&m=1148641884&s=170667a&w=0&h=UZvEyiD5nxDJiLz5n0i1jdvWn-MR6wt1nomiPV1wSDE=\" alt=\"400\" width=\"500\" align=\"left\"/>"
   ]
  }
 ],
 "metadata": {
  "kernelspec": {
   "display_name": "Python 3 (ipykernel)",
   "language": "python",
   "name": "python3"
  },
  "language_info": {
   "codemirror_mode": {
    "name": "ipython",
    "version": 3
   },
   "file_extension": ".py",
   "mimetype": "text/x-python",
   "name": "python",
   "nbconvert_exporter": "python",
   "pygments_lexer": "ipython3",
   "version": "3.9.7"
  }
 },
 "nbformat": 4,
 "nbformat_minor": 5
}
